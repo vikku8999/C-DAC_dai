{
 "cells": [
  {
   "cell_type": "code",
   "execution_count": 1,
   "metadata": {
    "id": "kFZRpLpK02pB"
   },
   "outputs": [],
   "source": [
    "#!/usr/bin/env python\n",
    "# -*- coding: utf-8 -*-"
   ]
  },
  {
   "cell_type": "markdown",
   "metadata": {
    "id": "deSnZmVy02pF"
   },
   "source": [
    "\n",
    "# Deep Neural Networks\n",
    "\n",
    "## Session 08d\n",
    "### Neural Network with :\n",
    "- pytorch implementation Custom Dataset Class with loader\n",
    "- One hidden layer \n",
    "- ${Tanh}$ activation function\n",
    "- multi-class - Fashion MNIST dataset (all 60000 images)\n",
    "\n",
    "\n",
    "<img src='../../images/prasami_color_tutorials_small.png' width='400' alt=\"By Pramod Sharma : pramod.sharma@prasami.com\" align=\"left\"/>"
   ]
  },
  {
   "cell_type": "code",
   "execution_count": 2,
   "metadata": {
    "id": "rt0pfyeA02pK"
   },
   "outputs": [],
   "source": [
    "###-----------------\n",
    "### Import Libraries\n",
    "###-----------------\n",
    "\n",
    "import os\n",
    "#import numpy as np\n",
    "import pandas as pd\n",
    "\n",
    "from collections.abc import Callable\n",
    "from typing import Literal\n",
    "\n",
    "\n",
    "from sklearn.model_selection import train_test_split\n",
    "from sklearn.metrics import accuracy_score, classification_report, confusion_matrix, ConfusionMatrixDisplay\n",
    "from sklearn.preprocessing import StandardScaler\n",
    "import matplotlib.pyplot as plt\n",
    "\n",
    "\n",
    "import torch\n",
    "import torch.nn as nn\n",
    "import torch.nn.functional as F\n",
    "from torch.autograd import Variable\n",
    "from torch.utils.data import DataLoader, Dataset"
   ]
  },
  {
   "cell_type": "code",
   "execution_count": 3,
   "metadata": {
    "id": "__T9cczP02pL"
   },
   "outputs": [],
   "source": [
    "###----------------------\n",
    "### Some basic parameters\n",
    "###----------------------\n",
    "\n",
    "inpDir = '../../input'\n",
    "outDir = '../output'\n",
    "modelDir = '../models'\n",
    "subDir = 'pytorch_fashion'\n",
    "\n",
    "RANDOM_STATE = 24 # for initialization ----- REMEMBER: to remove at the time of promotion to production\n",
    "torch.manual_seed(RANDOM_STATE) # Set Random Seed for reproducible  results\n",
    "\n",
    "EPOCHS = 30 # number of epochs\n",
    "BATCH_SIZE = 32\n",
    "ALPHA = 0.001 # learning rate\n",
    "TEST_SIZE = 0.2\n",
    "\n",
    "# parameters for Matplotlib\n",
    "params = {'legend.fontsize': 'x-large',\n",
    "          'figure.figsize': (15, 10),\n",
    "          'axes.labelsize': 'x-large',\n",
    "          'axes.titlesize':'x-large',\n",
    "          'xtick.labelsize':'x-large',\n",
    "          'ytick.labelsize':'x-large'\n",
    "         }\n",
    "\n",
    "CMAP = plt.cm.coolwarm\n",
    "\n",
    "plt.rcParams.update(params)"
   ]
  },
  {
   "cell_type": "code",
   "execution_count": 4,
   "metadata": {},
   "outputs": [],
   "source": [
    "# Check if all directories are present\n",
    "if not os.path.exists(os.path.join(outDir)):\n",
    "    os.makedirs(os.path.join(outDir))\n",
    "    print ('Created {} directory'.format(outDir))\n",
    "\n",
    "if not os.path.exists(os.path.join(modelDir, subDir)):\n",
    "    os.makedirs(os.path.join(modelDir, subDir))\n",
    "    print ('Created {} directory'.format(os.path.join(modelDir, subDir)))"
   ]
  },
  {
   "cell_type": "markdown",
   "metadata": {},
   "source": [
    "## Helper Functions"
   ]
  },
  {
   "cell_type": "code",
   "execution_count": 5,
   "metadata": {},
   "outputs": [],
   "source": [
    "###-----------------------------------\n",
    "### Function to plot Loss Curve\n",
    "###-----------------------------------\n",
    "\n",
    "def plot_hist(hist_df):\n",
    "    \n",
    "    # instantiate figure\n",
    "    fig, axes = plt.subplots(1,2 , figsize = (15,6))\n",
    "    \n",
    "    # properties  matplotlib.patch.Patch \n",
    "    props = dict(boxstyle='round', facecolor='cyan', alpha=0.5)\n",
    "    \n",
    "    # Where was min loss\n",
    "    best = hist_df[hist_df['test_loss'] == hist_df['test_loss'].min()]\n",
    "    \n",
    "    # pick first axis\n",
    "    ax = axes[0]\n",
    "\n",
    "    # Plot all losses\n",
    "    hist_df.plot(x = 'epoch', y = ['loss', 'test_loss'], ax = ax)\n",
    "\n",
    "    # little beautification\n",
    "    txtFmt = \"Loss: \\n  train: {:6.4f}\\n   test: {:6.4f}\"\n",
    "    txtstr = txtFmt.format(loss_df.iloc[-1]['loss'],\n",
    "                           loss_df.iloc[-1]['test_loss']) #text to plot\n",
    "\n",
    "    # place a text box in upper middle in axes coords\n",
    "    ax.text(0.3, 0.95, txtstr, transform=ax.transAxes, fontsize=14,\n",
    "            verticalalignment='top', bbox=props)\n",
    "    \n",
    "    # Mark arrow at lowest\n",
    "    ax.annotate(f'Min: {best[\"test_loss\"].to_numpy()[0]:6.4f}', # text to print\n",
    "                xy=(best['epoch'].to_numpy(), best[\"test_loss\"].to_numpy()[0]), # Arrow start\n",
    "                xytext=(best['epoch'].to_numpy()+0.01, best[\"test_loss\"].to_numpy()[0]-0.01), # location of text \n",
    "                fontsize=14,va='bottom', ha='right',bbox=props, # beautification of text\n",
    "                arrowprops=dict(facecolor='cyan', shrink=0.05)) # arrow\n",
    "    \n",
    "    # Draw vertical line at best value\n",
    "    ax.axvline(x = best['epoch'].to_numpy(), color = 'green', linestyle='-.', lw = 3);\n",
    "    \n",
    "    ax.set_xlabel(\"Epochs\")\n",
    "    ax.set_ylabel(\"Loss\")\n",
    "    ax.set_title('Errors')\n",
    "    ax.grid()\n",
    "    ax.legend(loc = 'upper left') # model legend to upper left\n",
    "\n",
    "    # pick second axis\n",
    "    ax = axes[1]\n",
    "\n",
    "    # Plot accuracies\n",
    "    hist_df.plot(x = 'epoch', y = ['acc', 'test_acc'], ax = ax)\n",
    "\n",
    "    # little beautification\n",
    "    txtFmt = \"Accuracy: \\n  train: {:6.4f}\\n  test:  {:6.4f}\"\n",
    "    txtstr = txtFmt.format(loss_df.iloc[-1]['acc'],\n",
    "                           loss_df.iloc[-1]['test_acc']) #text to plot\n",
    "        \n",
    "    # place a text box in lower middle in axes coords\n",
    "    ax.text(0.3, 0.2, txtstr, transform=ax.transAxes, fontsize=12,\n",
    "            verticalalignment='top', bbox=props)\n",
    "\n",
    "    # Mark arrow at lowest\n",
    "    ax.annotate(f'Best: {best[\"test_acc\"].to_numpy()[0]:6.4f}', # text to print\n",
    "                xy=(best['epoch'].to_numpy(), best[\"test_acc\"].to_numpy()[0]), # Arrow start\n",
    "                xytext=(best['epoch'].to_numpy(), best[\"test_acc\"].to_numpy()[0]+0.01), # location of text \n",
    "                fontsize=14,va='bottom', ha='right',bbox=props, # beautification of text\n",
    "                arrowprops=dict(facecolor='cyan', shrink=0.05)) # arrow\n",
    "    \n",
    "    \n",
    "    # Draw a vertical line at best value\n",
    "    ax.axvline(x = best['epoch'].to_numpy(), \n",
    "               color = 'green', \n",
    "               linestyle='-.', lw = 3)\n",
    "    \n",
    "    # Labels\n",
    "    ax.set_xlabel(\"Epochs\")\n",
    "    ax.set_ylabel(\"Accuracy\")\n",
    "    ax.set_title('Accuracies')\n",
    "    ax.grid();\n",
    "    ax.legend(loc = 'lower left')\n",
    "    \n",
    "    plt.tight_layout()"
   ]
  },
  {
   "cell_type": "markdown",
   "metadata": {},
   "source": [
    "## All about CUDA"
   ]
  },
  {
   "cell_type": "code",
   "execution_count": 6,
   "metadata": {},
   "outputs": [
    {
     "name": "stdout",
     "output_type": "stream",
     "text": [
      "Is CUDA available:  True\n",
      "CUDA version:  11.7\n",
      "Current Device ID:  0\n",
      "Name of the CUDA device:  NVIDIA GeForce RTX 3060 Laptop GPU\n"
     ]
    }
   ],
   "source": [
    "print ('Is CUDA available: ', torch.cuda.is_available())\n",
    "\n",
    "print ('CUDA version: ', torch.version.cuda )\n",
    "\n",
    "print ('Current Device ID: ', torch.cuda.current_device())\n",
    "\n",
    "print ('Name of the CUDA device: ', torch.cuda.get_device_name(torch.cuda.current_device()))"
   ]
  },
  {
   "cell_type": "code",
   "execution_count": 7,
   "metadata": {},
   "outputs": [
    {
     "name": "stdout",
     "output_type": "stream",
     "text": [
      "Using cuda device\n"
     ]
    }
   ],
   "source": [
    "# Get cpu or gpu device for training.\n",
    "\n",
    "device = \"cuda\" if torch.cuda.is_available() else \"cpu\"\n",
    "\n",
    "print(f\"Using {device} device\")"
   ]
  },
  {
   "cell_type": "markdown",
   "metadata": {
    "id": "7bhVN20X02pN"
   },
   "source": [
    "## Load Data Set\n",
    "\n",
    "Loading Fashion MNIST Dataset\n",
    "\n",
    "<img src = '../../images/pytorch_fashion_mnist.png' alt = 'pytorch_fashion_mnist'>"
   ]
  },
  {
   "cell_type": "code",
   "execution_count": 8,
   "metadata": {
    "id": "LXZ37P4G02pP"
   },
   "outputs": [],
   "source": [
    "train_filename = os.path.join(inpDir, 'fashion_mnist', 'fashion-mnist_train.csv')\n",
    "test_filename = os.path.join(inpDir, 'fashion_mnist', 'fashion-mnist_test.csv')\n",
    "\n",
    "train_df = pd.read_csv(train_filename, header = 0)\n",
    "test_df = pd.read_csv(test_filename, header = 0)"
   ]
  },
  {
   "cell_type": "code",
   "execution_count": 9,
   "metadata": {
    "colab": {
     "base_uri": "https://localhost:8080/",
     "height": 596
    },
    "id": "PWMWQKQ702pQ",
    "outputId": "80ccd743-533a-4a5d-c009-9318021035a1"
   },
   "outputs": [],
   "source": [
    "labels= {0 : 'T-shirt/top',\n",
    "         1  : 'Trouser',\n",
    "         2  : 'Pullover',\n",
    "         3 : 'Dress',\n",
    "         4 : 'Coat',\n",
    "         5 : 'Sandal',\n",
    "         6 : 'Shirt',\n",
    "         7 : 'Sneaker',\n",
    "         8 : 'Bag',\n",
    "         9 : 'Ankle boot'}"
   ]
  },
  {
   "cell_type": "markdown",
   "metadata": {},
   "source": [
    "## Dataset Class"
   ]
  },
  {
   "cell_type": "code",
   "execution_count": 10,
   "metadata": {},
   "outputs": [],
   "source": [
    "'''\n",
    "In this code, we define a custom dataset called FashionDS \n",
    "that takes a DataFrame as input. \n",
    "\n",
    "'''\n",
    "\n",
    "class FashionDS(Dataset):\n",
    "    def __init__(self, dataframe, device = device):\n",
    "        self.df = dataframe\n",
    "        self.device = device\n",
    "        feat = self.df.drop('label', axis = 1).to_numpy()\n",
    "        self.features = feat / 255.0\n",
    "\n",
    "        self.labels = self.df.label.to_numpy()\n",
    "\n",
    "    \n",
    "    def __len__(self):\n",
    "        return len(self.df)\n",
    "    \n",
    "    def __getitem__(self, index):\n",
    "        # Extract features and label from the dataframe row\n",
    "        features = self.features[index]\n",
    "        labels = self.labels[index]\n",
    "        \n",
    "        # Convert to PyTorch tensors\n",
    "        features = torch.tensor(features, dtype=torch.float32, device=self.device)\n",
    "        labels = torch.tensor(labels, dtype=torch.int64, device=self.device)\n",
    "        \n",
    "        return features, labels"
   ]
  },
  {
   "cell_type": "code",
   "execution_count": 11,
   "metadata": {},
   "outputs": [],
   "source": [
    "# convert to datasets\n",
    "train_ds = FashionDS(train_df)\n",
    "test_ds = FashionDS(test_df)"
   ]
  },
  {
   "cell_type": "code",
   "execution_count": 12,
   "metadata": {},
   "outputs": [],
   "source": [
    "# Define data loaders for the training and testing datasets\n",
    "train_loader = DataLoader(train_ds, batch_size=BATCH_SIZE, shuffle=True)\n",
    "test_loader  = DataLoader(test_ds, batch_size=BATCH_SIZE, shuffle=False)"
   ]
  },
  {
   "cell_type": "markdown",
   "metadata": {},
   "source": [
    "## Verify Data\n",
    "Lets check if we are getting proper data"
   ]
  },
  {
   "cell_type": "code",
   "execution_count": 13,
   "metadata": {},
   "outputs": [],
   "source": [
    "# get one batch\n",
    "images, targets = next(iter(train_loader))\n",
    "\n",
    "# move them to CPU and convert to numpy\n",
    "images = images.cpu().numpy()\n",
    "targets = targets.cpu().numpy()"
   ]
  },
  {
   "cell_type": "code",
   "execution_count": 14,
   "metadata": {},
   "outputs": [
    {
     "data": {
      "image/png": "[encoded data removed]",
      "text/plain": [
       "<Figure size 1500x800 with 32 Axes>"
      ]
     },
     "metadata": {},
     "output_type": "display_data"
    }
   ],
   "source": [
    "plt.figure(figsize=(15,8))\n",
    "\n",
    "for i in range(32):\n",
    "    \n",
    "    plt.subplot(4,8,i+1)\n",
    "    \n",
    "    plt.xticks([])\n",
    "    \n",
    "    plt.yticks([])\n",
    "    \n",
    "    plt.grid(False)\n",
    "    \n",
    "    plt.imshow(images[i].reshape(28,28,1), cmap=plt.cm.binary)\n",
    "    \n",
    "    plt.xlabel(labels[targets[i]])\n",
    "\n",
    "plt.show()"
   ]
  },
  {
   "cell_type": "markdown",
   "metadata": {
    "id": "lAFVIDSa02pX"
   },
   "source": [
    "## NN Model"
   ]
  },
  {
   "cell_type": "code",
   "execution_count": 17,
   "metadata": {
    "id": "I5prCl_I02pZ"
   },
   "outputs": [
    {
     "name": "stdout",
     "output_type": "stream",
     "text": [
      "Model(\n",
      "  (layer1): Linear(in_features=784, out_features=392, bias=True)\n",
      "  (layer2): Linear(in_features=392, out_features=10, bias=True)\n",
      ")\n"
     ]
    }
   ],
   "source": [
    "class Model(nn.Module):\n",
    "    \n",
    "    def __init__(self, input_dim):\n",
    "        super(Model, self).__init__()\n",
    "        self.layer1 = nn.Linear(input_dim,392)\n",
    "        self.layer2 = nn.Linear(392, 10)\n",
    "        \n",
    "    def forward(self, x):\n",
    "        x = torch.tanh(self.layer1(x))\n",
    "        x = F.softmax(self.layer2(x), dim = 1)\n",
    "        return x\n",
    "\n",
    "net = Model(input_dim=train_df.shape[1]-1).to(device) # Create model on GPU\n",
    "print (net)"
   ]
  },
  {
   "cell_type": "code",
   "execution_count": null,
   "metadata": {
    "colab": {
     "base_uri": "https://localhost:8080/"
    },
    "id": "iB-FU1yD02pa",
    "outputId": "d9bc602a-09be-4642-f0a9-ded12a831850"
   },
   "outputs": [],
   "source": [
    "# Define the loss function and optimizer\n",
    "loss_fn = nn.CrossEntropyLoss() # cross entropy loss\n",
    "\n",
    "loss, tloss = [],[]\n",
    "acc, tacc = [],[]\n",
    "n_epoch = []\n",
    "\n",
    "optimizer = torch.optim.Adam(net.parameters(), lr=ALPHA)\n",
    "\n",
    "# Train the model for multiple epochs\n",
    "\n",
    "for epoch in range(EPOCHS):\n",
    "    \n",
    "    # Training loop\n",
    "    train_loss = 0.0\n",
    "    train_acc = 0.0\n",
    "    \n",
    "    for i, data in enumerate(train_loader):\n",
    "        \n",
    "        inputs, targets = data\n",
    "        \n",
    "        optimizer.zero_grad()\n",
    "        \n",
    "        outputs = net(inputs)\n",
    "        \n",
    "        preds = torch.argmax(outputs, dim = 1)\n",
    "        \n",
    "        batch_loss = loss_fn(outputs, targets)\n",
    "        batch_acc = accuracy_score(targets.cpu().numpy(), preds.cpu().numpy())\n",
    "        \n",
    "        batch_loss.backward()\n",
    "        \n",
    "        optimizer.step()\n",
    "        \n",
    "        train_loss += batch_loss.item() * inputs.size(0)\n",
    "        train_acc += batch_acc * inputs.size(0)\n",
    "    \n",
    "    train_loss /= len(train_ds)\n",
    "    train_acc /= len(train_ds)\n",
    "    \n",
    "    loss.append(train_loss)\n",
    "    acc.append(train_acc)\n",
    "    \n",
    "    # Testing loop\n",
    "    test_loss = 0.0\n",
    "    test_acc = 0.0\n",
    "    \n",
    "    with torch.no_grad():\n",
    "        \n",
    "        for data in test_loader:\n",
    "            \n",
    "            inputs, targets = data\n",
    "            \n",
    "            outputs = net(inputs)\n",
    "            \n",
    "            preds = torch.argmax(outputs, dim = 1)\n",
    "            \n",
    "            batch_loss = loss_fn(outputs, targets)\n",
    "\n",
    "            batch_acc = accuracy_score(targets.cpu().numpy(), preds.cpu().numpy())\n",
    "            \n",
    "            test_loss += batch_loss.item() * inputs.size(0)\n",
    "            test_acc += batch_acc* inputs.size(0)\n",
    "        \n",
    "        test_loss /= len(test_ds)\n",
    "        test_acc /= len(test_ds)\n",
    "    \n",
    "        tloss.append(test_loss)\n",
    "        tacc.append(test_acc)\n",
    "    n_epoch.append(epoch)\n",
    "    \n",
    "    print(f'At epoch {epoch} | Loss - train:{train_loss:.4f}, test:{test_loss:.4f} | Acc - train:{train_acc:.4f}, test:{test_acc:.4f}')"
   ]
  },
  {
   "cell_type": "code",
   "execution_count": null,
   "metadata": {},
   "outputs": [],
   "source": [
    "loss_df = pd.DataFrame({'epoch' : n_epoch, 'loss' : loss, 'test_loss': tloss, 'acc' : acc, 'test_acc': tacc})\n",
    "loss_df.head()"
   ]
  },
  {
   "cell_type": "code",
   "execution_count": null,
   "metadata": {},
   "outputs": [],
   "source": [
    "plot_hist(loss_df)"
   ]
  },
  {
   "cell_type": "code",
   "execution_count": null,
   "metadata": {},
   "outputs": [],
   "source": [
    "# we transform all our features with the scaler\n",
    "X_scaled_all = train_df.drop('label', axis = 1).to_numpy() / 255.\n",
    "\n",
    "# transform in tensors\n",
    "X_scaled_all_tensors = torch.tensor(X_scaled_all, dtype=torch.float32).to(device)\n",
    "\n",
    "# we set the model in inference mode and create the predictions\n",
    "with torch.inference_mode():\n",
    "    logits = net(X_scaled_all_tensors)\n",
    "    predictions = logits.argmax(dim = 1)\n",
    "    \n",
    "train_df['pred'] = predictions.cpu().numpy().flatten()"
   ]
  },
  {
   "cell_type": "code",
   "execution_count": null,
   "metadata": {},
   "outputs": [],
   "source": [
    "y_pred = train_df['pred'].to_numpy()\n",
    "y_train = train_df['label']\n",
    "print('Accuracy score on Train Data :', accuracy_score(y_train, y_pred))"
   ]
  },
  {
   "cell_type": "code",
   "execution_count": null,
   "metadata": {},
   "outputs": [],
   "source": [
    "print(classification_report(y_train, y_pred))"
   ]
  },
  {
   "cell_type": "code",
   "execution_count": null,
   "metadata": {},
   "outputs": [],
   "source": [
    "cm  = confusion_matrix(y_train, y_pred)\n",
    "\n",
    "disp = ConfusionMatrixDisplay(confusion_matrix=cm, display_labels=labels.values())\n",
    "\n",
    "fig, ax = plt.subplots(figsize = (8,8))\n",
    "\n",
    "disp.plot(ax = ax, cmap = 'Blues', colorbar=False, xticks_rotation='vertical')\n",
    "plt.show();\n"
   ]
  },
  {
   "cell_type": "code",
   "execution_count": null,
   "metadata": {},
   "outputs": [],
   "source": [
    "# we transform all our features with the scaler\n",
    "X_scaled_all = test_df.drop('label', axis = 1).to_numpy() / 255.\n",
    "\n",
    "# transform in tensors\n",
    "X_scaled_all_tensors = torch.tensor(X_scaled_all, dtype=torch.float32).to(device)\n",
    "\n",
    "# we set the model in inference mode and create the predictions\n",
    "with torch.inference_mode():\n",
    "    logits = net(X_scaled_all_tensors)\n",
    "    predictions = logits.argmax(dim = 1)\n",
    "    \n",
    "test_df['pred'] = predictions.cpu().numpy().flatten()"
   ]
  },
  {
   "cell_type": "code",
   "execution_count": null,
   "metadata": {
    "colab": {
     "base_uri": "https://localhost:8080/"
    },
    "id": "TpTJ41pP02po",
    "outputId": "f3bda5d5-1d08-4307-ca44-ff1354e9d676"
   },
   "outputs": [],
   "source": [
    "y_pred = test_df['pred'].to_numpy()\n",
    "y_test = test_df['label']\n",
    "print('Accuracy score on Train Data :', accuracy_score(y_test, y_pred))"
   ]
  },
  {
   "cell_type": "code",
   "execution_count": null,
   "metadata": {
    "colab": {
     "base_uri": "https://localhost:8080/"
    },
    "id": "MJhVHaoe17Kx",
    "outputId": "f54ec5b6-ad6b-4537-97ac-b3eae4326364"
   },
   "outputs": [],
   "source": [
    "print(classification_report(y_test, y_pred))"
   ]
  },
  {
   "cell_type": "code",
   "execution_count": null,
   "metadata": {},
   "outputs": [],
   "source": [
    "cm  = confusion_matrix(y_test, y_pred)\n",
    "\n",
    "\n",
    "disp = ConfusionMatrixDisplay(confusion_matrix=cm, display_labels=labels.values())\n",
    "\n",
    "fig, ax = plt.subplots(figsize = (8,8))\n",
    "\n",
    "disp.plot(ax = ax, cmap = 'Blues', colorbar=False, xticks_rotation='vertical')\n",
    "plt.show();"
   ]
  },
  {
   "cell_type": "code",
   "execution_count": null,
   "metadata": {},
   "outputs": [],
   "source": [
    "test_df['pred'] = y_pred # Add prediction column\n",
    "plot_df = test_df[test_df['label'] != test_df['pred']] # pick rows where predictions are wrong\n",
    "\n",
    "plot_df = plot_df.sample(n=32) # sample 32 records\n",
    "\n",
    "y_test_plot = plot_df.label.to_numpy()\n",
    "y_pred_plot = plot_df.pred.to_numpy()\n",
    "\n",
    "X_plot = plot_df.drop(['label', 'pred'], axis = 1).to_numpy() / 255.\n",
    "\n",
    "\n",
    "plt.figure(figsize=(15,9))\n",
    "\n",
    "\n",
    "for i in range(32):\n",
    "    ax = plt.subplot(4,8,i+1)\n",
    "    # properties  matplotlib.patch.Patch \n",
    "    if y_test_plot[i]!= y_pred_plot[i]:\n",
    "        color = 'red'\n",
    "    else:\n",
    "        color = 'cyan'\n",
    "        \n",
    "    props = dict(boxstyle='round', facecolor=color, alpha=0.5)\n",
    "    \n",
    "    plt.xticks([])\n",
    "    plt.yticks([])\n",
    "    plt.grid(False)\n",
    "    plt.imshow(X_plot[i].reshape(28,28,1), cmap=plt.cm.binary)\n",
    "    plt.xlabel(labels[y_test_plot[i]])\n",
    "    # place a text box in upper middle in axes coords\n",
    "    ax.text(0.1, 0.95, labels[y_pred_plot[i]], transform=ax.transAxes, fontsize=14,\n",
    "            verticalalignment='top', bbox=props)\n",
    "    plt.tight_layout()\n",
    "plt.show()"
   ]
  },
  {
   "cell_type": "code",
   "execution_count": null,
   "metadata": {},
   "outputs": [],
   "source": []
  }
 ],
 "metadata": {
  "accelerator": "GPU",
  "colab": {
   "name": "S05a_one_hidden_layer_with_tanh_wip.ipynb",
   "provenance": []
  },
  "kernelspec": {
   "display_name": "Python 3 (ipykernel)",
   "language": "python",
   "name": "python3"
  },
  "language_info": {
   "codemirror_mode": {
    "name": "ipython",
    "version": 3
   },
   "file_extension": ".py",
   "mimetype": "text/x-python",
   "name": "python",
   "nbconvert_exporter": "python",
   "pygments_lexer": "ipython3",
   "version": "3.10.12"
  }
 },
 "nbformat": 4,
 "nbformat_minor": 4
}
