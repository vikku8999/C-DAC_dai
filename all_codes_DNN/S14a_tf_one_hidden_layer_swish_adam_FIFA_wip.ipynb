{
 "cells": [
  {
   "cell_type": "code",
   "execution_count": 1,
   "metadata": {},
   "outputs": [],
   "source": [
    "#!/usr/bin/env python\n",
    "# -*- coding: utf-8 -*-"
   ]
  },
  {
   "cell_type": "markdown",
   "metadata": {},
   "source": [
    "# Deep Neural Networks \n",
    "## Session 14a\n",
    "\n",
    "## Working with Tensorflow \n",
    "- One hidden layer\n",
    "- ${Swish}$ activation function\n",
    "- Adam\n",
    "- Multi-class output\n",
    "- FIFA dataset\n",
    "\n",
    "</p><img src='../../images/prasami_color_tutorials_small.png' width='400' alt=\"By Pramod Sharma : pramod.sharma@prasami.com\" align=\"left\"/>"
   ]
  },
  {
   "cell_type": "code",
   "execution_count": 2,
   "metadata": {},
   "outputs": [
    {
     "name": "stderr",
     "output_type": "stream",
     "text": [
      "2023-11-27 17:58:39.940401: E external/local_xla/xla/stream_executor/cuda/cuda_dnn.cc:9261] Unable to register cuDNN factory: Attempting to register factory for plugin cuDNN when one has already been registered\n",
      "2023-11-27 17:58:39.940519: E external/local_xla/xla/stream_executor/cuda/cuda_fft.cc:607] Unable to register cuFFT factory: Attempting to register factory for plugin cuFFT when one has already been registered\n",
      "2023-11-27 17:58:39.960234: E external/local_xla/xla/stream_executor/cuda/cuda_blas.cc:1515] Unable to register cuBLAS factory: Attempting to register factory for plugin cuBLAS when one has already been registered\n",
      "2023-11-27 17:58:40.011111: I tensorflow/core/platform/cpu_feature_guard.cc:182] This TensorFlow binary is optimized to use available CPU instructions in performance-critical operations.\n",
      "To enable the following instructions: AVX2 FMA, in other operations, rebuild TensorFlow with the appropriate compiler flags.\n",
      "2023-11-27 17:58:40.962699: W tensorflow/compiler/tf2tensorrt/utils/py_utils.cc:38] TF-TRT Warning: Could not find TensorRT\n"
     ]
    }
   ],
   "source": [
    "# Lets import some libraries\n",
    "import os\n",
    "\n",
    "import sys\n",
    "\n",
    "import numpy as np\n",
    "\n",
    "import pandas as pd\n",
    "\n",
    "import matplotlib.pyplot as plt\n",
    "\n",
    "from time import time\n",
    "\n",
    "from sklearn.model_selection import train_test_split\n",
    "\n",
    "from sklearn.metrics import accuracy_score, confusion_matrix, classification_report, ConfusionMatrixDisplay\n",
    "\n",
    "from sklearn.preprocessing import StandardScaler\n",
    "\n",
    "import tensorflow as tf\n",
    "\n",
    "%matplotlib inline"
   ]
  },
  {
   "cell_type": "code",
   "execution_count": 3,
   "metadata": {},
   "outputs": [],
   "source": [
    "# Some basic parameters\n",
    "\n",
    "inpDir = '../../input' # location where input data is stored\n",
    "outDir = '../output' # location to store outputs\n",
    "modelDir = '../models'\n",
    "subDir = 'fifa_2019'\n",
    "\n",
    "RANDOM_STATE = 24 # for initialization ----- REMEMBER: to remove at the time of promotion to production\n",
    "\n",
    "np.random.seed(RANDOM_STATE) # Set Random Seed for reproducible  results\n",
    " \n",
    "tf.random.set_seed(RANDOM_STATE) # setting for Tensorflow as well\n",
    "\n",
    "\n",
    "EPOCHS = 100 # number of epochs\n",
    "ALPHA = 0.1 # learning rate\n",
    "\n",
    "BATCH_SIZE = 256 # other sizes leave last batch partial\n",
    "\n",
    "TRAIN_SIZE = int(BATCH_SIZE*64) # to create 64 batches of 256 rows each\n",
    "\n",
    "# Set parameters for decoration of plots\n",
    "params = {'legend.fontsize' : 'large',\n",
    "          'figure.figsize'  : (15,15),\n",
    "          'axes.labelsize'  : 'x-large',\n",
    "          'axes.titlesize'  :'x-large',\n",
    "          'xtick.labelsize' :'large',\n",
    "          'ytick.labelsize' :'large',\n",
    "         }\n",
    "\n",
    "CMAP = plt.cm.brg\n",
    "\n",
    "plt.rcParams.update(params) # update rcParams"
   ]
  },
  {
   "cell_type": "markdown",
   "metadata": {},
   "source": [
    "### Settings so that Tensorflow can not Hog all the GPU memory"
   ]
  },
  {
   "cell_type": "code",
   "execution_count": 4,
   "metadata": {},
   "outputs": [
    {
     "name": "stderr",
     "output_type": "stream",
     "text": [
      "2023-11-27 17:58:42.231226: I external/local_xla/xla/stream_executor/cuda/cuda_executor.cc:901] successful NUMA node read from SysFS had negative value (-1), but there must be at least one NUMA node, so returning NUMA node zero. See more at https://github.com/torvalds/linux/blob/v6.0/Documentation/ABI/testing/sysfs-bus-pci#L344-L355\n",
      "2023-11-27 17:58:42.333338: I external/local_xla/xla/stream_executor/cuda/cuda_executor.cc:901] successful NUMA node read from SysFS had negative value (-1), but there must be at least one NUMA node, so returning NUMA node zero. See more at https://github.com/torvalds/linux/blob/v6.0/Documentation/ABI/testing/sysfs-bus-pci#L344-L355\n",
      "2023-11-27 17:58:42.333596: I external/local_xla/xla/stream_executor/cuda/cuda_executor.cc:901] successful NUMA node read from SysFS had negative value (-1), but there must be at least one NUMA node, so returning NUMA node zero. See more at https://github.com/torvalds/linux/blob/v6.0/Documentation/ABI/testing/sysfs-bus-pci#L344-L355\n"
     ]
    }
   ],
   "source": [
    "physical_devices = tf.config.list_physical_devices('GPU') \n",
    "\n",
    "if len(physical_devices) > 0:\n",
    "    tf.config.experimental.set_memory_growth(physical_devices[0], True)"
   ]
  },
  {
   "cell_type": "markdown",
   "metadata": {},
   "source": [
    "## Read FIFA 2019 data set"
   ]
  },
  {
   "cell_type": "code",
   "execution_count": 5,
   "metadata": {},
   "outputs": [
    {
     "data": {
      "text/plain": [
       "(18207, 89)"
      ]
     },
     "execution_count": 5,
     "metadata": {},
     "output_type": "execute_result"
    }
   ],
   "source": [
    "data_df = pd.read_csv(os.path.join(inpDir, 'fifa_2019.csv'))\n",
    "data_df.shape"
   ]
  },
  {
   "cell_type": "code",
   "execution_count": 6,
   "metadata": {},
   "outputs": [
    {
     "data": {
      "text/html": [
       "<div>\n",
       "<style scoped>\n",
       "    .dataframe tbody tr th:only-of-type {\n",
       "        vertical-align: middle;\n",
       "    }\n",
       "\n",
       "    .dataframe tbody tr th {\n",
       "        vertical-align: top;\n",
       "    }\n",
       "\n",
       "    .dataframe thead th {\n",
       "        text-align: right;\n",
       "    }\n",
       "</style>\n",
       "<table border=\"1\" class=\"dataframe\">\n",
       "  <thead>\n",
       "    <tr style=\"text-align: right;\">\n",
       "      <th></th>\n",
       "      <th>Unnamed: 0</th>\n",
       "      <th>ID</th>\n",
       "      <th>Name</th>\n",
       "      <th>Age</th>\n",
       "      <th>Photo</th>\n",
       "      <th>Nationality</th>\n",
       "      <th>Flag</th>\n",
       "      <th>Overall</th>\n",
       "      <th>Potential</th>\n",
       "      <th>Club</th>\n",
       "      <th>...</th>\n",
       "      <th>Composure</th>\n",
       "      <th>Marking</th>\n",
       "      <th>StandingTackle</th>\n",
       "      <th>SlidingTackle</th>\n",
       "      <th>GKDiving</th>\n",
       "      <th>GKHandling</th>\n",
       "      <th>GKKicking</th>\n",
       "      <th>GKPositioning</th>\n",
       "      <th>GKReflexes</th>\n",
       "      <th>Release Clause</th>\n",
       "    </tr>\n",
       "  </thead>\n",
       "  <tbody>\n",
       "    <tr>\n",
       "      <th>0</th>\n",
       "      <td>0</td>\n",
       "      <td>158023</td>\n",
       "      <td>L. Messi</td>\n",
       "      <td>31</td>\n",
       "      <td>https://cdn.sofifa.org/players/4/19/158023.png</td>\n",
       "      <td>Argentina</td>\n",
       "      <td>https://cdn.sofifa.org/flags/52.png</td>\n",
       "      <td>94</td>\n",
       "      <td>94</td>\n",
       "      <td>FC Barcelona</td>\n",
       "      <td>...</td>\n",
       "      <td>96.0</td>\n",
       "      <td>33.0</td>\n",
       "      <td>28.0</td>\n",
       "      <td>26.0</td>\n",
       "      <td>6.0</td>\n",
       "      <td>11.0</td>\n",
       "      <td>15.0</td>\n",
       "      <td>14.0</td>\n",
       "      <td>8.0</td>\n",
       "      <td>€226.5M</td>\n",
       "    </tr>\n",
       "    <tr>\n",
       "      <th>1</th>\n",
       "      <td>1</td>\n",
       "      <td>20801</td>\n",
       "      <td>Cristiano Ronaldo</td>\n",
       "      <td>33</td>\n",
       "      <td>https://cdn.sofifa.org/players/4/19/20801.png</td>\n",
       "      <td>Portugal</td>\n",
       "      <td>https://cdn.sofifa.org/flags/38.png</td>\n",
       "      <td>94</td>\n",
       "      <td>94</td>\n",
       "      <td>Juventus</td>\n",
       "      <td>...</td>\n",
       "      <td>95.0</td>\n",
       "      <td>28.0</td>\n",
       "      <td>31.0</td>\n",
       "      <td>23.0</td>\n",
       "      <td>7.0</td>\n",
       "      <td>11.0</td>\n",
       "      <td>15.0</td>\n",
       "      <td>14.0</td>\n",
       "      <td>11.0</td>\n",
       "      <td>€127.1M</td>\n",
       "    </tr>\n",
       "    <tr>\n",
       "      <th>2</th>\n",
       "      <td>2</td>\n",
       "      <td>190871</td>\n",
       "      <td>Neymar Jr</td>\n",
       "      <td>26</td>\n",
       "      <td>https://cdn.sofifa.org/players/4/19/190871.png</td>\n",
       "      <td>Brazil</td>\n",
       "      <td>https://cdn.sofifa.org/flags/54.png</td>\n",
       "      <td>92</td>\n",
       "      <td>93</td>\n",
       "      <td>Paris Saint-Germain</td>\n",
       "      <td>...</td>\n",
       "      <td>94.0</td>\n",
       "      <td>27.0</td>\n",
       "      <td>24.0</td>\n",
       "      <td>33.0</td>\n",
       "      <td>9.0</td>\n",
       "      <td>9.0</td>\n",
       "      <td>15.0</td>\n",
       "      <td>15.0</td>\n",
       "      <td>11.0</td>\n",
       "      <td>€228.1M</td>\n",
       "    </tr>\n",
       "    <tr>\n",
       "      <th>3</th>\n",
       "      <td>3</td>\n",
       "      <td>193080</td>\n",
       "      <td>De Gea</td>\n",
       "      <td>27</td>\n",
       "      <td>https://cdn.sofifa.org/players/4/19/193080.png</td>\n",
       "      <td>Spain</td>\n",
       "      <td>https://cdn.sofifa.org/flags/45.png</td>\n",
       "      <td>91</td>\n",
       "      <td>93</td>\n",
       "      <td>Manchester United</td>\n",
       "      <td>...</td>\n",
       "      <td>68.0</td>\n",
       "      <td>15.0</td>\n",
       "      <td>21.0</td>\n",
       "      <td>13.0</td>\n",
       "      <td>90.0</td>\n",
       "      <td>85.0</td>\n",
       "      <td>87.0</td>\n",
       "      <td>88.0</td>\n",
       "      <td>94.0</td>\n",
       "      <td>€138.6M</td>\n",
       "    </tr>\n",
       "    <tr>\n",
       "      <th>4</th>\n",
       "      <td>4</td>\n",
       "      <td>192985</td>\n",
       "      <td>K. De Bruyne</td>\n",
       "      <td>27</td>\n",
       "      <td>https://cdn.sofifa.org/players/4/19/192985.png</td>\n",
       "      <td>Belgium</td>\n",
       "      <td>https://cdn.sofifa.org/flags/7.png</td>\n",
       "      <td>91</td>\n",
       "      <td>92</td>\n",
       "      <td>Manchester City</td>\n",
       "      <td>...</td>\n",
       "      <td>88.0</td>\n",
       "      <td>68.0</td>\n",
       "      <td>58.0</td>\n",
       "      <td>51.0</td>\n",
       "      <td>15.0</td>\n",
       "      <td>13.0</td>\n",
       "      <td>5.0</td>\n",
       "      <td>10.0</td>\n",
       "      <td>13.0</td>\n",
       "      <td>€196.4M</td>\n",
       "    </tr>\n",
       "  </tbody>\n",
       "</table>\n",
       "<p>5 rows × 89 columns</p>\n",
       "</div>"
      ],
      "text/plain": [
       "   Unnamed: 0      ID               Name  Age  \\\n",
       "0           0  158023           L. Messi   31   \n",
       "1           1   20801  Cristiano Ronaldo   33   \n",
       "2           2  190871          Neymar Jr   26   \n",
       "3           3  193080             De Gea   27   \n",
       "4           4  192985       K. De Bruyne   27   \n",
       "\n",
       "                                            Photo Nationality  \\\n",
       "0  https://cdn.sofifa.org/players/4/19/158023.png   Argentina   \n",
       "1   https://cdn.sofifa.org/players/4/19/20801.png    Portugal   \n",
       "2  https://cdn.sofifa.org/players/4/19/190871.png      Brazil   \n",
       "3  https://cdn.sofifa.org/players/4/19/193080.png       Spain   \n",
       "4  https://cdn.sofifa.org/players/4/19/192985.png     Belgium   \n",
       "\n",
       "                                  Flag  Overall  Potential  \\\n",
       "0  https://cdn.sofifa.org/flags/52.png       94         94   \n",
       "1  https://cdn.sofifa.org/flags/38.png       94         94   \n",
       "2  https://cdn.sofifa.org/flags/54.png       92         93   \n",
       "3  https://cdn.sofifa.org/flags/45.png       91         93   \n",
       "4   https://cdn.sofifa.org/flags/7.png       91         92   \n",
       "\n",
       "                  Club  ... Composure Marking StandingTackle  SlidingTackle  \\\n",
       "0         FC Barcelona  ...      96.0    33.0           28.0           26.0   \n",
       "1             Juventus  ...      95.0    28.0           31.0           23.0   \n",
       "2  Paris Saint-Germain  ...      94.0    27.0           24.0           33.0   \n",
       "3    Manchester United  ...      68.0    15.0           21.0           13.0   \n",
       "4      Manchester City  ...      88.0    68.0           58.0           51.0   \n",
       "\n",
       "  GKDiving  GKHandling  GKKicking  GKPositioning GKReflexes Release Clause  \n",
       "0      6.0        11.0       15.0           14.0        8.0        €226.5M  \n",
       "1      7.0        11.0       15.0           14.0       11.0        €127.1M  \n",
       "2      9.0         9.0       15.0           15.0       11.0        €228.1M  \n",
       "3     90.0        85.0       87.0           88.0       94.0        €138.6M  \n",
       "4     15.0        13.0        5.0           10.0       13.0        €196.4M  \n",
       "\n",
       "[5 rows x 89 columns]"
      ]
     },
     "execution_count": 6,
     "metadata": {},
     "output_type": "execute_result"
    }
   ],
   "source": [
    "# removing rows with position = null\n",
    "data_df = data_df[data_df[\"Position\"].notnull()]\n",
    "data_df.head()"
   ]
  },
  {
   "cell_type": "code",
   "execution_count": 7,
   "metadata": {},
   "outputs": [
    {
     "data": {
      "text/html": [
       "<div>\n",
       "<style scoped>\n",
       "    .dataframe tbody tr th:only-of-type {\n",
       "        vertical-align: middle;\n",
       "    }\n",
       "\n",
       "    .dataframe tbody tr th {\n",
       "        vertical-align: top;\n",
       "    }\n",
       "\n",
       "    .dataframe thead th {\n",
       "        text-align: right;\n",
       "    }\n",
       "</style>\n",
       "<table border=\"1\" class=\"dataframe\">\n",
       "  <thead>\n",
       "    <tr style=\"text-align: right;\">\n",
       "      <th></th>\n",
       "      <th>Position</th>\n",
       "      <th>Finishing</th>\n",
       "      <th>HeadingAccuracy</th>\n",
       "      <th>ShortPassing</th>\n",
       "      <th>Volleys</th>\n",
       "      <th>Dribbling</th>\n",
       "      <th>Curve</th>\n",
       "      <th>FKAccuracy</th>\n",
       "      <th>LongPassing</th>\n",
       "      <th>BallControl</th>\n",
       "      <th>...</th>\n",
       "      <th>Penalties</th>\n",
       "      <th>Composure</th>\n",
       "      <th>Marking</th>\n",
       "      <th>StandingTackle</th>\n",
       "      <th>SlidingTackle</th>\n",
       "      <th>GKDiving</th>\n",
       "      <th>GKHandling</th>\n",
       "      <th>GKKicking</th>\n",
       "      <th>GKPositioning</th>\n",
       "      <th>GKReflexes</th>\n",
       "    </tr>\n",
       "  </thead>\n",
       "  <tbody>\n",
       "    <tr>\n",
       "      <th>0</th>\n",
       "      <td>RF</td>\n",
       "      <td>95.0</td>\n",
       "      <td>70.0</td>\n",
       "      <td>90.0</td>\n",
       "      <td>86.0</td>\n",
       "      <td>97.0</td>\n",
       "      <td>93.0</td>\n",
       "      <td>94.0</td>\n",
       "      <td>87.0</td>\n",
       "      <td>96.0</td>\n",
       "      <td>...</td>\n",
       "      <td>75.0</td>\n",
       "      <td>96.0</td>\n",
       "      <td>33.0</td>\n",
       "      <td>28.0</td>\n",
       "      <td>26.0</td>\n",
       "      <td>6.0</td>\n",
       "      <td>11.0</td>\n",
       "      <td>15.0</td>\n",
       "      <td>14.0</td>\n",
       "      <td>8.0</td>\n",
       "    </tr>\n",
       "    <tr>\n",
       "      <th>1</th>\n",
       "      <td>ST</td>\n",
       "      <td>94.0</td>\n",
       "      <td>89.0</td>\n",
       "      <td>81.0</td>\n",
       "      <td>87.0</td>\n",
       "      <td>88.0</td>\n",
       "      <td>81.0</td>\n",
       "      <td>76.0</td>\n",
       "      <td>77.0</td>\n",
       "      <td>94.0</td>\n",
       "      <td>...</td>\n",
       "      <td>85.0</td>\n",
       "      <td>95.0</td>\n",
       "      <td>28.0</td>\n",
       "      <td>31.0</td>\n",
       "      <td>23.0</td>\n",
       "      <td>7.0</td>\n",
       "      <td>11.0</td>\n",
       "      <td>15.0</td>\n",
       "      <td>14.0</td>\n",
       "      <td>11.0</td>\n",
       "    </tr>\n",
       "    <tr>\n",
       "      <th>2</th>\n",
       "      <td>LW</td>\n",
       "      <td>87.0</td>\n",
       "      <td>62.0</td>\n",
       "      <td>84.0</td>\n",
       "      <td>84.0</td>\n",
       "      <td>96.0</td>\n",
       "      <td>88.0</td>\n",
       "      <td>87.0</td>\n",
       "      <td>78.0</td>\n",
       "      <td>95.0</td>\n",
       "      <td>...</td>\n",
       "      <td>81.0</td>\n",
       "      <td>94.0</td>\n",
       "      <td>27.0</td>\n",
       "      <td>24.0</td>\n",
       "      <td>33.0</td>\n",
       "      <td>9.0</td>\n",
       "      <td>9.0</td>\n",
       "      <td>15.0</td>\n",
       "      <td>15.0</td>\n",
       "      <td>11.0</td>\n",
       "    </tr>\n",
       "    <tr>\n",
       "      <th>3</th>\n",
       "      <td>GK</td>\n",
       "      <td>13.0</td>\n",
       "      <td>21.0</td>\n",
       "      <td>50.0</td>\n",
       "      <td>13.0</td>\n",
       "      <td>18.0</td>\n",
       "      <td>21.0</td>\n",
       "      <td>19.0</td>\n",
       "      <td>51.0</td>\n",
       "      <td>42.0</td>\n",
       "      <td>...</td>\n",
       "      <td>40.0</td>\n",
       "      <td>68.0</td>\n",
       "      <td>15.0</td>\n",
       "      <td>21.0</td>\n",
       "      <td>13.0</td>\n",
       "      <td>90.0</td>\n",
       "      <td>85.0</td>\n",
       "      <td>87.0</td>\n",
       "      <td>88.0</td>\n",
       "      <td>94.0</td>\n",
       "    </tr>\n",
       "    <tr>\n",
       "      <th>4</th>\n",
       "      <td>RCM</td>\n",
       "      <td>82.0</td>\n",
       "      <td>55.0</td>\n",
       "      <td>92.0</td>\n",
       "      <td>82.0</td>\n",
       "      <td>86.0</td>\n",
       "      <td>85.0</td>\n",
       "      <td>83.0</td>\n",
       "      <td>91.0</td>\n",
       "      <td>91.0</td>\n",
       "      <td>...</td>\n",
       "      <td>79.0</td>\n",
       "      <td>88.0</td>\n",
       "      <td>68.0</td>\n",
       "      <td>58.0</td>\n",
       "      <td>51.0</td>\n",
       "      <td>15.0</td>\n",
       "      <td>13.0</td>\n",
       "      <td>5.0</td>\n",
       "      <td>10.0</td>\n",
       "      <td>13.0</td>\n",
       "    </tr>\n",
       "  </tbody>\n",
       "</table>\n",
       "<p>5 rows × 34 columns</p>\n",
       "</div>"
      ],
      "text/plain": [
       "  Position  Finishing  HeadingAccuracy  ShortPassing  Volleys  Dribbling  \\\n",
       "0       RF       95.0             70.0          90.0     86.0       97.0   \n",
       "1       ST       94.0             89.0          81.0     87.0       88.0   \n",
       "2       LW       87.0             62.0          84.0     84.0       96.0   \n",
       "3       GK       13.0             21.0          50.0     13.0       18.0   \n",
       "4      RCM       82.0             55.0          92.0     82.0       86.0   \n",
       "\n",
       "   Curve  FKAccuracy  LongPassing  BallControl  ...  Penalties  Composure  \\\n",
       "0   93.0        94.0         87.0         96.0  ...       75.0       96.0   \n",
       "1   81.0        76.0         77.0         94.0  ...       85.0       95.0   \n",
       "2   88.0        87.0         78.0         95.0  ...       81.0       94.0   \n",
       "3   21.0        19.0         51.0         42.0  ...       40.0       68.0   \n",
       "4   85.0        83.0         91.0         91.0  ...       79.0       88.0   \n",
       "\n",
       "   Marking  StandingTackle  SlidingTackle  GKDiving  GKHandling  GKKicking  \\\n",
       "0     33.0            28.0           26.0       6.0        11.0       15.0   \n",
       "1     28.0            31.0           23.0       7.0        11.0       15.0   \n",
       "2     27.0            24.0           33.0       9.0         9.0       15.0   \n",
       "3     15.0            21.0           13.0      90.0        85.0       87.0   \n",
       "4     68.0            58.0           51.0      15.0        13.0        5.0   \n",
       "\n",
       "   GKPositioning  GKReflexes  \n",
       "0           14.0         8.0  \n",
       "1           14.0        11.0  \n",
       "2           15.0        11.0  \n",
       "3           88.0        94.0  \n",
       "4           10.0        13.0  \n",
       "\n",
       "[5 rows x 34 columns]"
      ]
     },
     "execution_count": 7,
     "metadata": {},
     "output_type": "execute_result"
    }
   ],
   "source": [
    "# Following columns appear to be relevant for our analysis\n",
    "rel_cols = [\"Position\", 'Finishing', 'HeadingAccuracy', 'ShortPassing', 'Volleys', 'Dribbling',\n",
    "            'Curve', 'FKAccuracy', 'LongPassing', 'BallControl', 'Acceleration',\n",
    "            'SprintSpeed', 'Agility', 'Reactions', 'Balance', 'ShotPower',\n",
    "            'Jumping', 'Stamina', 'Strength', 'LongShots', 'Aggression',\n",
    "            'Interceptions', 'Positioning', 'Vision', 'Penalties', 'Composure',\n",
    "            'Marking', 'StandingTackle', 'SlidingTackle', 'GKDiving', 'GKHandling',\n",
    "            'GKKicking', 'GKPositioning', 'GKReflexes']\n",
    "\n",
    "data_df = data_df[rel_cols]\n",
    "data_df.head()"
   ]
  },
  {
   "cell_type": "code",
   "execution_count": 8,
   "metadata": {},
   "outputs": [
    {
     "data": {
      "text/plain": [
       "Position           0\n",
       "Finishing          0\n",
       "HeadingAccuracy    0\n",
       "ShortPassing       0\n",
       "Volleys            0\n",
       "Dribbling          0\n",
       "Curve              0\n",
       "FKAccuracy         0\n",
       "LongPassing        0\n",
       "BallControl        0\n",
       "Acceleration       0\n",
       "SprintSpeed        0\n",
       "Agility            0\n",
       "Reactions          0\n",
       "Balance            0\n",
       "ShotPower          0\n",
       "Jumping            0\n",
       "Stamina            0\n",
       "Strength           0\n",
       "LongShots          0\n",
       "Aggression         0\n",
       "Interceptions      0\n",
       "Positioning        0\n",
       "Vision             0\n",
       "Penalties          0\n",
       "Composure          0\n",
       "Marking            0\n",
       "StandingTackle     0\n",
       "SlidingTackle      0\n",
       "GKDiving           0\n",
       "GKHandling         0\n",
       "GKKicking          0\n",
       "GKPositioning      0\n",
       "GKReflexes         0\n",
       "dtype: int64"
      ]
     },
     "execution_count": 8,
     "metadata": {},
     "output_type": "execute_result"
    }
   ],
   "source": [
    "# Are there NaNs Still?\n",
    "\n",
    "data_df.isna().sum()"
   ]
  },
  {
   "cell_type": "code",
   "execution_count": 9,
   "metadata": {},
   "outputs": [],
   "source": [
    "goalkeeper = 'GK'\n",
    "forward = ['ST', 'LW', 'RW', 'LF', 'RF', 'RS','LS', 'CF']\n",
    "midfielder = ['CM','RCM','LCM', 'CDM','RDM','LDM', 'CAM', 'LAM', 'RAM', 'RM', 'LM']\n",
    "defender = ['CB', 'RCB', 'LCB', 'LWB', 'RWB', 'LB', 'RB']"
   ]
  },
  {
   "cell_type": "code",
   "execution_count": 10,
   "metadata": {},
   "outputs": [],
   "source": [
    "#Assign labels to goalkeepers\n",
    "data_df.loc[data_df[\"Position\"] == \"GK\", \"Position\"] = 0\n",
    "\n",
    "#Defenders\n",
    "data_df.loc[data_df[\"Position\"].isin(defender), \"Position\"] = 1\n",
    "\n",
    "#Midfielders\n",
    "data_df.loc[data_df[\"Position\"].isin(midfielder), \"Position\"] = 2\n",
    "\n",
    "#Forward\n",
    "data_df.loc[data_df[\"Position\"].isin(forward), \"Position\"] = 3\n",
    "\n",
    "# Convert Column \"Position\" to numeric so that Pandas does not complain\n",
    "data_df['Position'] = pd.to_numeric(data_df['Position'], downcast=\"integer\")"
   ]
  },
  {
   "cell_type": "code",
   "execution_count": 11,
   "metadata": {},
   "outputs": [],
   "source": [
    "labels = {0: 'Goal Keeper', 1: 'Defender', 2: 'Mid-Fielder', 3: 'Forward'}"
   ]
  },
  {
   "cell_type": "code",
   "execution_count": 12,
   "metadata": {},
   "outputs": [],
   "source": [
    "y = data_df[\"Position\"].values\n",
    "\n",
    "X = data_df.drop(\"Position\", axis = 1)"
   ]
  },
  {
   "cell_type": "code",
   "execution_count": 13,
   "metadata": {},
   "outputs": [
    {
     "data": {
      "text/plain": [
       "array([[False, False, False,  True],\n",
       "       [False, False, False,  True],\n",
       "       [False, False, False,  True],\n",
       "       ...,\n",
       "       [False, False, False,  True],\n",
       "       [False, False, False,  True],\n",
       "       [False, False,  True, False]])"
      ]
     },
     "execution_count": 13,
     "metadata": {},
     "output_type": "execute_result"
    }
   ],
   "source": [
    "# one hot encoding\n",
    "y = pd.get_dummies(y).values\n",
    "y"
   ]
  },
  {
   "cell_type": "code",
   "execution_count": 14,
   "metadata": {},
   "outputs": [
    {
     "name": "stdout",
     "output_type": "stream",
     "text": [
      "(16384, 33) (16384, 4) (1763, 33) (1763, 4)\n"
     ]
    }
   ],
   "source": [
    "#  Split the data in training and test sets to measure performance of the model.\n",
    "X_train, X_test, y_train, y_test = train_test_split(X, y, \n",
    "                                                    train_size=TRAIN_SIZE,\n",
    "                                                    stratify=y,\n",
    "                                                    random_state=RANDOM_STATE )\n",
    "\n",
    "print (X_train.shape, y_train.shape, X_test.shape, y_test.shape)"
   ]
  },
  {
   "cell_type": "code",
   "execution_count": 15,
   "metadata": {},
   "outputs": [],
   "source": [
    "sc = StandardScaler()\n",
    "\n",
    "X_train = sc.fit_transform(X_train)\n",
    "\n",
    "X_test = sc.transform(X_test)"
   ]
  },
  {
   "cell_type": "code",
   "execution_count": 16,
   "metadata": {},
   "outputs": [
    {
     "data": {
      "text/plain": [
       "(16384, 33)"
      ]
     },
     "execution_count": 16,
     "metadata": {},
     "output_type": "execute_result"
    }
   ],
   "source": [
    "X_train.shape"
   ]
  },
  {
   "cell_type": "markdown",
   "metadata": {},
   "source": [
    "## Prepare model\n",
    "\n",
    "Build the `tf.keras.Sequential` model by stacking layers. Choose an optimizer and loss function for training:"
   ]
  },
  {
   "cell_type": "code",
   "execution_count": 17,
   "metadata": {},
   "outputs": [
    {
     "name": "stderr",
     "output_type": "stream",
     "text": [
      "2023-11-27 17:58:42.768480: I external/local_xla/xla/stream_executor/cuda/cuda_executor.cc:901] successful NUMA node read from SysFS had negative value (-1), but there must be at least one NUMA node, so returning NUMA node zero. See more at https://github.com/torvalds/linux/blob/v6.0/Documentation/ABI/testing/sysfs-bus-pci#L344-L355\n",
      "2023-11-27 17:58:42.768768: I external/local_xla/xla/stream_executor/cuda/cuda_executor.cc:901] successful NUMA node read from SysFS had negative value (-1), but there must be at least one NUMA node, so returning NUMA node zero. See more at https://github.com/torvalds/linux/blob/v6.0/Documentation/ABI/testing/sysfs-bus-pci#L344-L355\n",
      "2023-11-27 17:58:42.768995: I external/local_xla/xla/stream_executor/cuda/cuda_executor.cc:901] successful NUMA node read from SysFS had negative value (-1), but there must be at least one NUMA node, so returning NUMA node zero. See more at https://github.com/torvalds/linux/blob/v6.0/Documentation/ABI/testing/sysfs-bus-pci#L344-L355\n",
      "2023-11-27 17:58:42.851774: I external/local_xla/xla/stream_executor/cuda/cuda_executor.cc:901] successful NUMA node read from SysFS had negative value (-1), but there must be at least one NUMA node, so returning NUMA node zero. See more at https://github.com/torvalds/linux/blob/v6.0/Documentation/ABI/testing/sysfs-bus-pci#L344-L355\n",
      "2023-11-27 17:58:42.852057: I external/local_xla/xla/stream_executor/cuda/cuda_executor.cc:901] successful NUMA node read from SysFS had negative value (-1), but there must be at least one NUMA node, so returning NUMA node zero. See more at https://github.com/torvalds/linux/blob/v6.0/Documentation/ABI/testing/sysfs-bus-pci#L344-L355\n",
      "2023-11-27 17:58:42.852310: I external/local_xla/xla/stream_executor/cuda/cuda_executor.cc:901] successful NUMA node read from SysFS had negative value (-1), but there must be at least one NUMA node, so returning NUMA node zero. See more at https://github.com/torvalds/linux/blob/v6.0/Documentation/ABI/testing/sysfs-bus-pci#L344-L355\n",
      "2023-11-27 17:58:42.852507: I tensorflow/core/common_runtime/gpu/gpu_device.cc:1929] Created device /job:localhost/replica:0/task:0/device:GPU:0 with 4069 MB memory:  -> device: 0, name: NVIDIA GeForce RTX 3060 Laptop GPU, pci bus id: 0000:01:00.0, compute capability: 8.6\n"
     ]
    }
   ],
   "source": [
    "# Callig class Sequential and pass all layers as a list\n",
    "model = tf.keras.models.Sequential([\n",
    "  tf.keras.layers.Dense(18, activation='swish'), # alternatively activation = tf.nn.silu\n",
    "  tf.keras.layers.Dense(4) # notice absense of softmax function\n",
    "])"
   ]
  },
  {
   "cell_type": "markdown",
   "metadata": {},
   "source": [
    "## Reference\n",
    "<p style=\"font-family: Arial; font-size:1.2em;color:black;\">\n",
    "Details of <a href = \"https://www.tensorflow.org/api_docs/python/tf/keras/Sequential\">Sequential Model</a>. Sequential provides training and predict features on this model.\n",
    "</p>"
   ]
  },
  {
   "cell_type": "markdown",
   "metadata": {},
   "source": [
    "### Functional API\n",
    "\n",
    "<p style=\"font-family: Arial; font-size:1.2em;color:black;\">You can also instantiate a Model with the <strong>\"Functional API\"</strong>, where you start from Input, you chain layer calls to specify the model's forward pass, and finally you create your model from inputs and outputs:\n",
    "\n",
    ">import tensorflow as tf\n",
    "\n",
    ">inputs = tf.keras.Input(shape=(33,))\n",
    "    \n",
    ">x = tf.keras.layers.Dense(18, activation=tf.nn.relu)(inputs)\n",
    "\n",
    ">outputs = tf.keras.layers.Dense(4, activation=tf.nn.softmax)(x)\n",
    "\n",
    ">model = tf.keras.Model(inputs=inputs, outputs=outputs)\n",
    "\n",
    "    \n",
    "<p style=\"font-family: Arial; font-size:1.2em;color:black;\">You can also extend the model class, if love to live by sword!!\n",
    "</p>"
   ]
  },
  {
   "cell_type": "markdown",
   "metadata": {},
   "source": [
    "<p style=\"font-family: Arial; font-size:1.2em;color:black;\">\n",
    "    For each example the model returns a vector of \"logits\" or \"log-odds\" scores, one for each class.\n",
    "</p>"
   ]
  },
  {
   "cell_type": "code",
   "execution_count": 18,
   "metadata": {},
   "outputs": [
    {
     "data": {
      "text/plain": [
       "(1, 33)"
      ]
     },
     "execution_count": 18,
     "metadata": {},
     "output_type": "execute_result"
    }
   ],
   "source": [
    "X_train[:1].shape"
   ]
  },
  {
   "cell_type": "code",
   "execution_count": 19,
   "metadata": {},
   "outputs": [
    {
     "name": "stderr",
     "output_type": "stream",
     "text": [
      "2023-11-27 17:58:43.067693: I external/local_tsl/tsl/platform/default/subprocess.cc:304] Start cannot spawn child process: No such file or directory\n"
     ]
    },
    {
     "data": {
      "text/plain": [
       "array([[-0.7455446 , -0.7449656 ,  0.90757006, -0.32847738]],\n",
       "      dtype=float32)"
      ]
     },
     "execution_count": 19,
     "metadata": {},
     "output_type": "execute_result"
    }
   ],
   "source": [
    "predictions = model(X_train[:1]).numpy()\n",
    "predictions"
   ]
  },
  {
   "cell_type": "code",
   "execution_count": 20,
   "metadata": {},
   "outputs": [
    {
     "data": {
      "text/plain": [
       "-0.91141754"
      ]
     },
     "execution_count": 20,
     "metadata": {},
     "output_type": "execute_result"
    }
   ],
   "source": [
    "predictions.sum()"
   ]
  },
  {
   "cell_type": "markdown",
   "metadata": {},
   "source": [
    "The `tf.nn.softmax` function converts these logits to \"probabilities\" for each class: "
   ]
  },
  {
   "cell_type": "code",
   "execution_count": 21,
   "metadata": {},
   "outputs": [
    {
     "data": {
      "text/plain": [
       "array([[0.11439937, 0.11446563, 0.59753346, 0.17360155]], dtype=float32)"
      ]
     },
     "execution_count": 21,
     "metadata": {},
     "output_type": "execute_result"
    }
   ],
   "source": [
    "tf.nn.softmax(predictions).numpy()"
   ]
  },
  {
   "cell_type": "code",
   "execution_count": 22,
   "metadata": {},
   "outputs": [
    {
     "data": {
      "text/plain": [
       "1.0"
      ]
     },
     "execution_count": 22,
     "metadata": {},
     "output_type": "execute_result"
    }
   ],
   "source": [
    "tf.nn.softmax(predictions).numpy().sum()"
   ]
  },
  {
   "cell_type": "code",
   "execution_count": 23,
   "metadata": {},
   "outputs": [
    {
     "name": "stdout",
     "output_type": "stream",
     "text": [
      "Model: \"sequential\"\n",
      "_________________________________________________________________\n",
      " Layer (type)                Output Shape              Param #   \n",
      "=================================================================\n",
      " dense (Dense)               (1, 18)                   612       \n",
      "                                                                 \n",
      " dense_1 (Dense)             (1, 4)                    76        \n",
      "                                                                 \n",
      "=================================================================\n",
      "Total params: 688 (2.69 KB)\n",
      "Trainable params: 688 (2.69 KB)\n",
      "Non-trainable params: 0 (0.00 Byte)\n",
      "_________________________________________________________________\n"
     ]
    }
   ],
   "source": [
    "'''\n",
    "Number of parameters:\n",
    "    layer 1 : 33*18 +18 = 612 \n",
    "    layer 2 : 18*4 + 4\n",
    "We are not locking any layer hence all parameter are trainable    \n",
    "'''\n",
    "\n",
    "model.summary()"
   ]
  },
  {
   "cell_type": "markdown",
   "metadata": {},
   "source": [
    "## Game Changer\n",
    "\n",
    "`Softmax` function is prone to two issues: overflow and underflow.\n",
    "\n",
    "- <b>Overflow</b> occurs when very large numbers are being fed.\n",
    "- <b>Underflow</b> occurs when very small numbers (near zero) are being fed.\n",
    "\n",
    "There are work arounds too, but, TF has its own approach.<br>\n",
    "    \n",
    "Intuition being that every system (32 / 64 bit precision) has limits in terms of largest or smallest value it can accurately process.\n",
    "\n",
    "It also leads to the vanishing gradient in exponential functions. As you go higher/lower the  will overflow and the gradient will be `zero` irrespective of actually it being a `non-zero`.\n",
    "\n",
    "\n",
    "Our loss function is crossentropy as there are two or more label classes. The labels are provided using one-hot representation. We will use CategoricalCrossentropy loss. \n",
    "    \n",
    ">y_true = [ [0      1    0], [ 0    1   0 ]<br>\n",
    ">y_pred = [ [0.05, 0.95, 0], [0.1, 0.1, 0.8] ]\n",
    "\n",
    "\n",
    "In case, you have not one-hot-encoded use `losses.SparseCategoricalCrossentropy`. It takes a vector of logits and a `True` index and returns a scalar loss for each example."
   ]
  },
  {
   "cell_type": "code",
   "execution_count": 24,
   "metadata": {},
   "outputs": [
    {
     "data": {
      "text/plain": [
       "1.7976931348623157e+308"
      ]
     },
     "execution_count": 24,
     "metadata": {},
     "output_type": "execute_result"
    }
   ],
   "source": [
    "sys.float_info.max"
   ]
  },
  {
   "cell_type": "code",
   "execution_count": 25,
   "metadata": {},
   "outputs": [
    {
     "data": {
      "text/plain": [
       "2.2250738585072014e-308"
      ]
     },
     "execution_count": 25,
     "metadata": {},
     "output_type": "execute_result"
    }
   ],
   "source": [
    "sys.float_info.min"
   ]
  },
  {
   "cell_type": "code",
   "execution_count": 26,
   "metadata": {},
   "outputs": [
    {
     "data": {
      "text/plain": [
       "709.782712893384"
      ]
     },
     "execution_count": 26,
     "metadata": {},
     "output_type": "execute_result"
    }
   ],
   "source": [
    "np.log(sys.float_info.max)"
   ]
  },
  {
   "cell_type": "code",
   "execution_count": 27,
   "metadata": {},
   "outputs": [],
   "source": [
    "loss_fn = tf.keras.losses.CategoricalCrossentropy ( from_logits = True)"
   ]
  },
  {
   "cell_type": "code",
   "execution_count": 28,
   "metadata": {},
   "outputs": [
    {
     "data": {
      "text/plain": [
       "array([[False, False,  True, False]])"
      ]
     },
     "execution_count": 28,
     "metadata": {},
     "output_type": "execute_result"
    }
   ],
   "source": [
    "y_train[:1]"
   ]
  },
  {
   "cell_type": "code",
   "execution_count": 29,
   "metadata": {},
   "outputs": [
    {
     "data": {
      "text/plain": [
       "0.51494503"
      ]
     },
     "execution_count": 29,
     "metadata": {},
     "output_type": "execute_result"
    }
   ],
   "source": [
    "loss_fn(y_train[:1], predictions).numpy()"
   ]
  },
  {
   "cell_type": "markdown",
   "metadata": {},
   "source": [
    "Using `model.compile`, specify the training configuration such as:\n",
    "- Loss function to minimize\n",
    "- Optimizer\n",
    "- List of metrics to monitor"
   ]
  },
  {
   "cell_type": "code",
   "execution_count": 30,
   "metadata": {},
   "outputs": [],
   "source": [
    "model.compile(optimizer='adam',\n",
    "              loss=loss_fn,\n",
    "              metrics=['accuracy'])"
   ]
  },
  {
   "cell_type": "markdown",
   "metadata": {},
   "source": [
    "Call `fit()`, which will train the model by slicing the data into `batches` of size `batch_size`, and repeatedly iterating over the entire dataset for a given number of `epochs`. Pass some validation for monitoring validation loss and metrics at the end of each epoch."
   ]
  },
  {
   "cell_type": "code",
   "execution_count": 31,
   "metadata": {
    "scrolled": true
   },
   "outputs": [
    {
     "name": "stdout",
     "output_type": "stream",
     "text": [
      "Epoch 1/100\n"
     ]
    },
    {
     "name": "stderr",
     "output_type": "stream",
     "text": [
      "2023-11-27 17:58:43.744241: I external/local_xla/xla/service/service.cc:168] XLA service 0x7f55d4e18b20 initialized for platform CUDA (this does not guarantee that XLA will be used). Devices:\n",
      "2023-11-27 17:58:43.744268: I external/local_xla/xla/service/service.cc:176]   StreamExecutor device (0): NVIDIA GeForce RTX 3060 Laptop GPU, Compute Capability 8.6\n",
      "2023-11-27 17:58:43.755522: I tensorflow/compiler/mlir/tensorflow/utils/dump_mlir_util.cc:269] disabling MLIR crash reproducer, set env var `MLIR_CRASH_REPRODUCER_DIRECTORY` to enable.\n",
      "2023-11-27 17:58:43.783917: I external/local_xla/xla/stream_executor/cuda/cuda_dnn.cc:454] Loaded cuDNN version 8902\n",
      "WARNING: All log messages before absl::InitializeLog() is called are written to STDERR\n",
      "I0000 00:00:1701088123.846422    8580 device_compiler.h:186] Compiled cluster using XLA!  This line is logged at most once for the lifetime of the process.\n"
     ]
    },
    {
     "name": "stdout",
     "output_type": "stream",
     "text": [
      "64/64 [==============================] - 1s 4ms/step - loss: 0.9485 - accuracy: 0.6114 - val_loss: 0.7075 - val_accuracy: 0.7294\n",
      "Epoch 2/100\n",
      "64/64 [==============================] - 0s 2ms/step - loss: 0.5915 - accuracy: 0.7770 - val_loss: 0.5122 - val_accuracy: 0.7907\n",
      "Epoch 3/100\n",
      "64/64 [==============================] - 0s 2ms/step - loss: 0.4658 - accuracy: 0.8154 - val_loss: 0.4323 - val_accuracy: 0.8157\n",
      "Epoch 4/100\n",
      "64/64 [==============================] - 0s 2ms/step - loss: 0.4089 - accuracy: 0.8318 - val_loss: 0.3885 - val_accuracy: 0.8349\n",
      "Epoch 5/100\n",
      "64/64 [==============================] - 0s 2ms/step - loss: 0.3748 - accuracy: 0.8450 - val_loss: 0.3611 - val_accuracy: 0.8480\n",
      "Epoch 6/100\n",
      "64/64 [==============================] - 0s 2ms/step - loss: 0.3520 - accuracy: 0.8558 - val_loss: 0.3409 - val_accuracy: 0.8537\n",
      "Epoch 7/100\n",
      "64/64 [==============================] - 0s 2ms/step - loss: 0.3359 - accuracy: 0.8622 - val_loss: 0.3293 - val_accuracy: 0.8548\n",
      "Epoch 8/100\n",
      "64/64 [==============================] - 0s 2ms/step - loss: 0.3253 - accuracy: 0.8668 - val_loss: 0.3206 - val_accuracy: 0.8559\n",
      "Epoch 9/100\n",
      "64/64 [==============================] - 0s 2ms/step - loss: 0.3172 - accuracy: 0.8708 - val_loss: 0.3141 - val_accuracy: 0.8644\n",
      "Epoch 10/100\n",
      "64/64 [==============================] - 0s 2ms/step - loss: 0.3116 - accuracy: 0.8716 - val_loss: 0.3099 - val_accuracy: 0.8661\n",
      "Epoch 11/100\n",
      "64/64 [==============================] - 0s 2ms/step - loss: 0.3076 - accuracy: 0.8727 - val_loss: 0.3067 - val_accuracy: 0.8650\n",
      "Epoch 12/100\n",
      "64/64 [==============================] - 0s 2ms/step - loss: 0.3045 - accuracy: 0.8735 - val_loss: 0.3043 - val_accuracy: 0.8678\n",
      "Epoch 13/100\n",
      "64/64 [==============================] - 0s 2ms/step - loss: 0.3022 - accuracy: 0.8735 - val_loss: 0.3023 - val_accuracy: 0.8673\n",
      "Epoch 14/100\n",
      "64/64 [==============================] - 0s 2ms/step - loss: 0.2998 - accuracy: 0.8759 - val_loss: 0.3008 - val_accuracy: 0.8712\n",
      "Epoch 15/100\n",
      "64/64 [==============================] - 0s 4ms/step - loss: 0.2983 - accuracy: 0.8752 - val_loss: 0.2993 - val_accuracy: 0.8701\n",
      "Epoch 16/100\n",
      "64/64 [==============================] - 0s 3ms/step - loss: 0.2967 - accuracy: 0.8770 - val_loss: 0.2977 - val_accuracy: 0.8724\n",
      "Epoch 17/100\n",
      "64/64 [==============================] - 0s 2ms/step - loss: 0.2953 - accuracy: 0.8776 - val_loss: 0.2972 - val_accuracy: 0.8746\n",
      "Epoch 18/100\n",
      "64/64 [==============================] - 0s 2ms/step - loss: 0.2941 - accuracy: 0.8780 - val_loss: 0.2959 - val_accuracy: 0.8724\n",
      "Epoch 19/100\n",
      "64/64 [==============================] - 0s 2ms/step - loss: 0.2930 - accuracy: 0.8788 - val_loss: 0.2947 - val_accuracy: 0.8746\n",
      "Epoch 20/100\n",
      "64/64 [==============================] - 0s 4ms/step - loss: 0.2922 - accuracy: 0.8796 - val_loss: 0.2944 - val_accuracy: 0.8763\n",
      "Epoch 21/100\n",
      "64/64 [==============================] - 0s 3ms/step - loss: 0.2911 - accuracy: 0.8801 - val_loss: 0.2930 - val_accuracy: 0.8752\n",
      "Epoch 22/100\n",
      "64/64 [==============================] - 0s 3ms/step - loss: 0.2905 - accuracy: 0.8796 - val_loss: 0.2945 - val_accuracy: 0.8763\n",
      "Epoch 23/100\n",
      "64/64 [==============================] - 0s 2ms/step - loss: 0.2897 - accuracy: 0.8807 - val_loss: 0.2916 - val_accuracy: 0.8763\n",
      "Epoch 24/100\n",
      "64/64 [==============================] - 0s 4ms/step - loss: 0.2891 - accuracy: 0.8804 - val_loss: 0.2916 - val_accuracy: 0.8758\n",
      "Epoch 25/100\n",
      "64/64 [==============================] - 0s 2ms/step - loss: 0.2886 - accuracy: 0.8801 - val_loss: 0.2909 - val_accuracy: 0.8775\n",
      "Epoch 26/100\n",
      "64/64 [==============================] - 0s 4ms/step - loss: 0.2880 - accuracy: 0.8807 - val_loss: 0.2902 - val_accuracy: 0.8786\n",
      "Epoch 27/100\n",
      "64/64 [==============================] - 0s 2ms/step - loss: 0.2868 - accuracy: 0.8812 - val_loss: 0.2908 - val_accuracy: 0.8803\n",
      "Epoch 28/100\n",
      "64/64 [==============================] - 0s 4ms/step - loss: 0.2863 - accuracy: 0.8819 - val_loss: 0.2898 - val_accuracy: 0.8792\n",
      "Epoch 29/100\n",
      "64/64 [==============================] - 0s 2ms/step - loss: 0.2861 - accuracy: 0.8826 - val_loss: 0.2887 - val_accuracy: 0.8775\n",
      "Epoch 30/100\n",
      "64/64 [==============================] - 0s 4ms/step - loss: 0.2855 - accuracy: 0.8815 - val_loss: 0.2894 - val_accuracy: 0.8798\n",
      "Epoch 31/100\n",
      "64/64 [==============================] - 0s 3ms/step - loss: 0.2854 - accuracy: 0.8818 - val_loss: 0.2882 - val_accuracy: 0.8780\n",
      "Epoch 32/100\n",
      "64/64 [==============================] - 0s 2ms/step - loss: 0.2850 - accuracy: 0.8820 - val_loss: 0.2883 - val_accuracy: 0.8798\n",
      "Epoch 33/100\n",
      "64/64 [==============================] - 0s 4ms/step - loss: 0.2839 - accuracy: 0.8831 - val_loss: 0.2876 - val_accuracy: 0.8820\n",
      "Epoch 34/100\n",
      "64/64 [==============================] - 0s 2ms/step - loss: 0.2837 - accuracy: 0.8823 - val_loss: 0.2875 - val_accuracy: 0.8786\n",
      "Epoch 35/100\n",
      "64/64 [==============================] - 0s 4ms/step - loss: 0.2830 - accuracy: 0.8827 - val_loss: 0.2872 - val_accuracy: 0.8815\n",
      "Epoch 36/100\n",
      "64/64 [==============================] - 0s 2ms/step - loss: 0.2828 - accuracy: 0.8832 - val_loss: 0.2890 - val_accuracy: 0.8803\n",
      "Epoch 37/100\n",
      "64/64 [==============================] - 0s 2ms/step - loss: 0.2826 - accuracy: 0.8820 - val_loss: 0.2866 - val_accuracy: 0.8809\n",
      "Epoch 38/100\n",
      "64/64 [==============================] - 0s 2ms/step - loss: 0.2824 - accuracy: 0.8837 - val_loss: 0.2862 - val_accuracy: 0.8820\n",
      "Epoch 39/100\n",
      "64/64 [==============================] - 0s 2ms/step - loss: 0.2816 - accuracy: 0.8838 - val_loss: 0.2861 - val_accuracy: 0.8820\n",
      "Epoch 40/100\n",
      "64/64 [==============================] - 0s 2ms/step - loss: 0.2809 - accuracy: 0.8831 - val_loss: 0.2866 - val_accuracy: 0.8832\n",
      "Epoch 41/100\n",
      "64/64 [==============================] - 0s 2ms/step - loss: 0.2807 - accuracy: 0.8839 - val_loss: 0.2856 - val_accuracy: 0.8809\n",
      "Epoch 42/100\n",
      "64/64 [==============================] - 0s 2ms/step - loss: 0.2806 - accuracy: 0.8831 - val_loss: 0.2862 - val_accuracy: 0.8826\n",
      "Epoch 43/100\n",
      "64/64 [==============================] - 0s 2ms/step - loss: 0.2803 - accuracy: 0.8831 - val_loss: 0.2862 - val_accuracy: 0.8809\n",
      "Epoch 44/100\n",
      "64/64 [==============================] - 0s 2ms/step - loss: 0.2801 - accuracy: 0.8850 - val_loss: 0.2865 - val_accuracy: 0.8815\n",
      "Epoch 45/100\n",
      "64/64 [==============================] - 0s 2ms/step - loss: 0.2798 - accuracy: 0.8843 - val_loss: 0.2856 - val_accuracy: 0.8832\n",
      "Epoch 46/100\n",
      "64/64 [==============================] - 0s 2ms/step - loss: 0.2790 - accuracy: 0.8837 - val_loss: 0.2860 - val_accuracy: 0.8843\n",
      "Epoch 47/100\n",
      "64/64 [==============================] - 0s 2ms/step - loss: 0.2789 - accuracy: 0.8846 - val_loss: 0.2853 - val_accuracy: 0.8826\n",
      "Epoch 48/100\n",
      "64/64 [==============================] - 0s 2ms/step - loss: 0.2785 - accuracy: 0.8843 - val_loss: 0.2848 - val_accuracy: 0.8832\n",
      "Epoch 49/100\n",
      "64/64 [==============================] - 0s 2ms/step - loss: 0.2783 - accuracy: 0.8843 - val_loss: 0.2852 - val_accuracy: 0.8837\n",
      "Epoch 50/100\n",
      "64/64 [==============================] - 0s 3ms/step - loss: 0.2781 - accuracy: 0.8852 - val_loss: 0.2866 - val_accuracy: 0.8815\n",
      "Epoch 51/100\n",
      "64/64 [==============================] - 0s 3ms/step - loss: 0.2780 - accuracy: 0.8858 - val_loss: 0.2851 - val_accuracy: 0.8837\n",
      "Epoch 52/100\n",
      "64/64 [==============================] - 0s 2ms/step - loss: 0.2776 - accuracy: 0.8847 - val_loss: 0.2853 - val_accuracy: 0.8837\n",
      "Epoch 53/100\n",
      "64/64 [==============================] - 0s 2ms/step - loss: 0.2772 - accuracy: 0.8849 - val_loss: 0.2850 - val_accuracy: 0.8843\n",
      "Epoch 54/100\n",
      "64/64 [==============================] - 0s 2ms/step - loss: 0.2771 - accuracy: 0.8846 - val_loss: 0.2853 - val_accuracy: 0.8854\n",
      "Epoch 55/100\n",
      "64/64 [==============================] - 0s 2ms/step - loss: 0.2766 - accuracy: 0.8856 - val_loss: 0.2847 - val_accuracy: 0.8854\n",
      "Epoch 56/100\n",
      "64/64 [==============================] - 0s 2ms/step - loss: 0.2764 - accuracy: 0.8859 - val_loss: 0.2856 - val_accuracy: 0.8843\n",
      "Epoch 57/100\n",
      "64/64 [==============================] - 0s 2ms/step - loss: 0.2762 - accuracy: 0.8851 - val_loss: 0.2859 - val_accuracy: 0.8860\n",
      "Epoch 58/100\n",
      "64/64 [==============================] - 0s 2ms/step - loss: 0.2757 - accuracy: 0.8849 - val_loss: 0.2850 - val_accuracy: 0.8849\n",
      "Epoch 59/100\n",
      "64/64 [==============================] - 0s 4ms/step - loss: 0.2762 - accuracy: 0.8849 - val_loss: 0.2851 - val_accuracy: 0.8854\n",
      "Epoch 60/100\n",
      "64/64 [==============================] - 0s 3ms/step - loss: 0.2753 - accuracy: 0.8851 - val_loss: 0.2855 - val_accuracy: 0.8866\n",
      "Epoch 61/100\n",
      "64/64 [==============================] - 0s 2ms/step - loss: 0.2753 - accuracy: 0.8853 - val_loss: 0.2857 - val_accuracy: 0.8877\n",
      "Epoch 62/100\n",
      "64/64 [==============================] - 0s 2ms/step - loss: 0.2755 - accuracy: 0.8859 - val_loss: 0.2858 - val_accuracy: 0.8854\n",
      "Epoch 63/100\n",
      "64/64 [==============================] - 0s 2ms/step - loss: 0.2746 - accuracy: 0.8862 - val_loss: 0.2851 - val_accuracy: 0.8866\n",
      "Epoch 64/100\n",
      "64/64 [==============================] - 0s 2ms/step - loss: 0.2747 - accuracy: 0.8853 - val_loss: 0.2857 - val_accuracy: 0.8854\n",
      "Epoch 65/100\n",
      "64/64 [==============================] - 0s 3ms/step - loss: 0.2746 - accuracy: 0.8861 - val_loss: 0.2861 - val_accuracy: 0.8849\n",
      "Epoch 66/100\n",
      "64/64 [==============================] - 0s 3ms/step - loss: 0.2745 - accuracy: 0.8857 - val_loss: 0.2858 - val_accuracy: 0.8871\n",
      "Epoch 67/100\n",
      "64/64 [==============================] - 0s 2ms/step - loss: 0.2738 - accuracy: 0.8857 - val_loss: 0.2848 - val_accuracy: 0.8849\n",
      "Epoch 68/100\n",
      "64/64 [==============================] - 0s 2ms/step - loss: 0.2741 - accuracy: 0.8853 - val_loss: 0.2854 - val_accuracy: 0.8871\n",
      "Epoch 69/100\n",
      "64/64 [==============================] - 0s 2ms/step - loss: 0.2735 - accuracy: 0.8871 - val_loss: 0.2864 - val_accuracy: 0.8866\n",
      "Epoch 70/100\n",
      "64/64 [==============================] - 0s 4ms/step - loss: 0.2733 - accuracy: 0.8864 - val_loss: 0.2850 - val_accuracy: 0.8871\n",
      "Epoch 71/100\n",
      "64/64 [==============================] - 0s 2ms/step - loss: 0.2731 - accuracy: 0.8865 - val_loss: 0.2868 - val_accuracy: 0.8866\n",
      "Epoch 72/100\n",
      "64/64 [==============================] - 0s 4ms/step - loss: 0.2735 - accuracy: 0.8862 - val_loss: 0.2855 - val_accuracy: 0.8883\n",
      "Epoch 73/100\n",
      "64/64 [==============================] - 0s 2ms/step - loss: 0.2729 - accuracy: 0.8867 - val_loss: 0.2861 - val_accuracy: 0.8837\n",
      "Epoch 74/100\n",
      "64/64 [==============================] - 0s 2ms/step - loss: 0.2730 - accuracy: 0.8860 - val_loss: 0.2867 - val_accuracy: 0.8866\n",
      "Epoch 75/100\n",
      "64/64 [==============================] - 0s 2ms/step - loss: 0.2725 - accuracy: 0.8864 - val_loss: 0.2852 - val_accuracy: 0.8854\n",
      "Epoch 76/100\n",
      "64/64 [==============================] - 0s 2ms/step - loss: 0.2721 - accuracy: 0.8869 - val_loss: 0.2853 - val_accuracy: 0.8837\n",
      "Epoch 77/100\n",
      "64/64 [==============================] - 0s 4ms/step - loss: 0.2722 - accuracy: 0.8867 - val_loss: 0.2854 - val_accuracy: 0.8854\n",
      "Epoch 78/100\n",
      "64/64 [==============================] - 0s 2ms/step - loss: 0.2722 - accuracy: 0.8866 - val_loss: 0.2860 - val_accuracy: 0.8866\n",
      "Epoch 79/100\n",
      "64/64 [==============================] - 0s 2ms/step - loss: 0.2720 - accuracy: 0.8860 - val_loss: 0.2858 - val_accuracy: 0.8866\n",
      "Epoch 80/100\n",
      "64/64 [==============================] - 0s 2ms/step - loss: 0.2719 - accuracy: 0.8871 - val_loss: 0.2859 - val_accuracy: 0.8877\n",
      "Epoch 81/100\n",
      "64/64 [==============================] - 0s 2ms/step - loss: 0.2715 - accuracy: 0.8873 - val_loss: 0.2862 - val_accuracy: 0.8832\n",
      "Epoch 82/100\n",
      "64/64 [==============================] - 0s 2ms/step - loss: 0.2717 - accuracy: 0.8868 - val_loss: 0.2859 - val_accuracy: 0.8877\n",
      "Epoch 83/100\n",
      "64/64 [==============================] - 0s 2ms/step - loss: 0.2711 - accuracy: 0.8868 - val_loss: 0.2862 - val_accuracy: 0.8837\n",
      "Epoch 84/100\n",
      "64/64 [==============================] - 0s 2ms/step - loss: 0.2712 - accuracy: 0.8882 - val_loss: 0.2856 - val_accuracy: 0.8843\n",
      "Epoch 85/100\n",
      "64/64 [==============================] - 0s 4ms/step - loss: 0.2709 - accuracy: 0.8885 - val_loss: 0.2861 - val_accuracy: 0.8854\n",
      "Epoch 86/100\n",
      "64/64 [==============================] - 0s 3ms/step - loss: 0.2706 - accuracy: 0.8878 - val_loss: 0.2878 - val_accuracy: 0.8820\n",
      "Epoch 87/100\n",
      "64/64 [==============================] - 0s 3ms/step - loss: 0.2706 - accuracy: 0.8882 - val_loss: 0.2866 - val_accuracy: 0.8860\n",
      "Epoch 88/100\n",
      "64/64 [==============================] - 0s 3ms/step - loss: 0.2708 - accuracy: 0.8862 - val_loss: 0.2863 - val_accuracy: 0.8860\n",
      "Epoch 89/100\n",
      "64/64 [==============================] - 0s 3ms/step - loss: 0.2700 - accuracy: 0.8873 - val_loss: 0.2865 - val_accuracy: 0.8849\n",
      "Epoch 90/100\n",
      "64/64 [==============================] - 0s 2ms/step - loss: 0.2700 - accuracy: 0.8877 - val_loss: 0.2871 - val_accuracy: 0.8866\n",
      "Epoch 91/100\n",
      "64/64 [==============================] - 0s 2ms/step - loss: 0.2699 - accuracy: 0.8876 - val_loss: 0.2868 - val_accuracy: 0.8860\n",
      "Epoch 92/100\n",
      "64/64 [==============================] - 0s 2ms/step - loss: 0.2699 - accuracy: 0.8878 - val_loss: 0.2862 - val_accuracy: 0.8860\n",
      "Epoch 93/100\n",
      "64/64 [==============================] - 0s 2ms/step - loss: 0.2697 - accuracy: 0.8880 - val_loss: 0.2867 - val_accuracy: 0.8860\n",
      "Epoch 94/100\n",
      "64/64 [==============================] - 0s 2ms/step - loss: 0.2697 - accuracy: 0.8882 - val_loss: 0.2867 - val_accuracy: 0.8860\n",
      "Epoch 95/100\n",
      "64/64 [==============================] - 0s 2ms/step - loss: 0.2693 - accuracy: 0.8889 - val_loss: 0.2869 - val_accuracy: 0.8871\n",
      "Epoch 96/100\n",
      "64/64 [==============================] - 0s 3ms/step - loss: 0.2696 - accuracy: 0.8887 - val_loss: 0.2871 - val_accuracy: 0.8883\n",
      "Epoch 97/100\n",
      "64/64 [==============================] - 0s 3ms/step - loss: 0.2693 - accuracy: 0.8893 - val_loss: 0.2870 - val_accuracy: 0.8826\n",
      "Epoch 98/100\n",
      "64/64 [==============================] - 0s 3ms/step - loss: 0.2690 - accuracy: 0.8885 - val_loss: 0.2892 - val_accuracy: 0.8809\n",
      "Epoch 99/100\n",
      "64/64 [==============================] - 0s 2ms/step - loss: 0.2689 - accuracy: 0.8895 - val_loss: 0.2866 - val_accuracy: 0.8849\n",
      "Epoch 100/100\n",
      "64/64 [==============================] - 0s 2ms/step - loss: 0.2685 - accuracy: 0.8878 - val_loss: 0.2873 - val_accuracy: 0.8837\n"
     ]
    }
   ],
   "source": [
    "history = model.fit(X_train, y_train, \n",
    "                    validation_data=[X_test, y_test],\n",
    "                    batch_size=BATCH_SIZE,\n",
    "                    epochs=EPOCHS)"
   ]
  },
  {
   "cell_type": "markdown",
   "metadata": {},
   "source": [
    "In case we want to separately evaluate this model, we have `evaluate` function."
   ]
  },
  {
   "cell_type": "code",
   "execution_count": 32,
   "metadata": {},
   "outputs": [
    {
     "name": "stdout",
     "output_type": "stream",
     "text": [
      "56/56 - 0s - loss: 0.2873 - accuracy: 0.8837 - 103ms/epoch - 2ms/step\n"
     ]
    },
    {
     "data": {
      "text/plain": [
       "[0.28726083040237427, 0.8837209343910217]"
      ]
     },
     "execution_count": 32,
     "metadata": {},
     "output_type": "execute_result"
    }
   ],
   "source": [
    "model.evaluate ( X_test,  y_test, verbose=2)"
   ]
  },
  {
   "cell_type": "code",
   "execution_count": 33,
   "metadata": {},
   "outputs": [
    {
     "data": {
      "text/html": [
       "<div>\n",
       "<style scoped>\n",
       "    .dataframe tbody tr th:only-of-type {\n",
       "        vertical-align: middle;\n",
       "    }\n",
       "\n",
       "    .dataframe tbody tr th {\n",
       "        vertical-align: top;\n",
       "    }\n",
       "\n",
       "    .dataframe thead th {\n",
       "        text-align: right;\n",
       "    }\n",
       "</style>\n",
       "<table border=\"1\" class=\"dataframe\">\n",
       "  <thead>\n",
       "    <tr style=\"text-align: right;\">\n",
       "      <th></th>\n",
       "      <th>loss</th>\n",
       "      <th>accuracy</th>\n",
       "      <th>val_loss</th>\n",
       "      <th>val_accuracy</th>\n",
       "    </tr>\n",
       "  </thead>\n",
       "  <tbody>\n",
       "    <tr>\n",
       "      <th>0</th>\n",
       "      <td>0.948483</td>\n",
       "      <td>0.611389</td>\n",
       "      <td>0.707550</td>\n",
       "      <td>0.729438</td>\n",
       "    </tr>\n",
       "    <tr>\n",
       "      <th>1</th>\n",
       "      <td>0.591456</td>\n",
       "      <td>0.777039</td>\n",
       "      <td>0.512201</td>\n",
       "      <td>0.790698</td>\n",
       "    </tr>\n",
       "    <tr>\n",
       "      <th>2</th>\n",
       "      <td>0.465769</td>\n",
       "      <td>0.815369</td>\n",
       "      <td>0.432300</td>\n",
       "      <td>0.815655</td>\n",
       "    </tr>\n",
       "    <tr>\n",
       "      <th>3</th>\n",
       "      <td>0.408935</td>\n",
       "      <td>0.831787</td>\n",
       "      <td>0.388549</td>\n",
       "      <td>0.834940</td>\n",
       "    </tr>\n",
       "    <tr>\n",
       "      <th>4</th>\n",
       "      <td>0.374794</td>\n",
       "      <td>0.844971</td>\n",
       "      <td>0.361109</td>\n",
       "      <td>0.847986</td>\n",
       "    </tr>\n",
       "  </tbody>\n",
       "</table>\n",
       "</div>"
      ],
      "text/plain": [
       "       loss  accuracy  val_loss  val_accuracy\n",
       "0  0.948483  0.611389  0.707550      0.729438\n",
       "1  0.591456  0.777039  0.512201      0.790698\n",
       "2  0.465769  0.815369  0.432300      0.815655\n",
       "3  0.408935  0.831787  0.388549      0.834940\n",
       "4  0.374794  0.844971  0.361109      0.847986"
      ]
     },
     "execution_count": 33,
     "metadata": {},
     "output_type": "execute_result"
    }
   ],
   "source": [
    "loss_df = pd.DataFrame(history.history)\n",
    "loss_df.head()"
   ]
  },
  {
   "cell_type": "code",
   "execution_count": 43,
   "metadata": {},
   "outputs": [
    {
     "data": {
      "image/png": "[encoded data removed]",
      "text/plain": [
       "<Figure size 1500x600 with 2 Axes>"
      ]
     },
     "metadata": {},
     "output_type": "display_data"
    }
   ],
   "source": [
    "fig, axes = plt.subplots(1,2 , figsize = (15,6),)\n",
    "\n",
    "l_range = 10 # ignoring first few records\n",
    "y1_var = 'loss'\n",
    "y2_var = 'val_loss'\n",
    "\n",
    "ax = axes[0]\n",
    "\n",
    "loss_df[[y1_var, y2_var]].plot( ax = ax)\n",
    "\n",
    "# get values for plotting\n",
    "st_loss = loss_df[y1_var].iloc[0]\n",
    "end_loss = loss_df[y1_var].iloc[-1]\n",
    "t_st_loss = loss_df[y2_var].iloc[0]\n",
    "t_end_loss = loss_df[y2_var].iloc[-1]\n",
    "\n",
    "# little beautification\n",
    "train_txtstr = \"Train Loss: \\n  Start : {:7.4f}\\n    End : {:7.4f}\".format( st_loss, end_loss )    # Train text to plot\n",
    "\n",
    "test_txtstr = \"Test Loss: \\n  Start : {:7.4f}\\n    End : {:7.4f}\".format( t_st_loss, t_end_loss ) # Test text to plot\n",
    "txtstr = ' {} \\n{}'.format(train_txtstr, test_txtstr)\n",
    "# properties  matplotlib.patch.Patch \n",
    "props = dict(boxstyle='round', facecolor='cyan', alpha=0.5)\n",
    "\n",
    "# place a text box in upper left in axes coords\n",
    "\n",
    "ax.text(0.4, 0.95, txtstr, transform=ax.transAxes, fontsize=12,\n",
    "        verticalalignment='top', bbox=props)\n",
    "\n",
    "ax.set_xlabel('epoch')\n",
    "ax.set_ylabel(y1_var)\n",
    "ax.set_title('Overall')\n",
    "ax.grid();\n",
    "\n",
    "ax = axes[1]\n",
    "\n",
    "y1_var = 'accuracy'\n",
    "y2_var = 'val_accuracy'\n",
    "\n",
    "loss_df[[y1_var, y2_var]].plot( ax = ax)\n",
    "\n",
    "# get values for plotting\n",
    "st_loss = loss_df[y1_var].iloc[0]\n",
    "end_loss = loss_df[y1_var].iloc[-1]\n",
    "t_st_loss = loss_df[y2_var].iloc[0]\n",
    "t_end_loss = loss_df[y2_var].iloc[-1]\n",
    "\n",
    "# little beautification\n",
    "train_txtstr = \"Train Accuracy: \\n  Start : {:7.4f}\\n    End : {:7.4f}\".format( st_loss, end_loss )    # Train text to plot\n",
    "\n",
    "test_txtstr = \"Test Accuracy: \\n  Start : {:7.4f}\\n    End : {:7.4f}\".format( t_st_loss, t_end_loss ) # Test text to plot# properties  matplotlib.patch.Patch \n",
    "txtstr = ' {} \\n{}'.format(train_txtstr, test_txtstr)\n",
    "\n",
    "\n",
    "# place a text box in upper left in axes coords\n",
    "\n",
    "ax.text(0.4, 0.95, txtstr, transform=ax.transAxes, fontsize=12,\n",
    "        verticalalignment='top', bbox=props)\n",
    "\n",
    "ax.set_xlabel('epoch')\n",
    "ax.set_ylabel(y1_var)\n",
    "ax.set_title('Accuracies'.format(l_range))\n",
    "ax.grid();\n",
    "plt.tight_layout()"
   ]
  },
  {
   "cell_type": "markdown",
   "metadata": {},
   "source": [
    "## Predictions"
   ]
  },
  {
   "cell_type": "code",
   "execution_count": 50,
   "metadata": {},
   "outputs": [],
   "source": [
    "y_logits = model(X_train)\n",
    "y_pred1 = tf.nn.softmax(y_logits).numpy()"
   ]
  },
  {
   "cell_type": "code",
   "execution_count": 47,
   "metadata": {},
   "outputs": [],
   "source": [
    "probability_model = tf.keras.Sequential([\n",
    "  model,\n",
    "  tf.keras.layers.Softmax()\n",
    "])"
   ]
  },
  {
   "cell_type": "code",
   "execution_count": 48,
   "metadata": {},
   "outputs": [
    {
     "data": {
      "text/plain": [
       "array([[2.0296504e-06, 5.3814251e-04, 8.2920784e-01, 1.7025197e-01],\n",
       "       [8.9082477e-08, 9.0853137e-01, 9.1466904e-02, 1.6896123e-06],\n",
       "       [7.5016793e-08, 4.7989824e-06, 3.1292737e-01, 6.8706775e-01],\n",
       "       ...,\n",
       "       [6.7125591e-05, 2.1176688e-01, 6.0071182e-01, 1.8745418e-01],\n",
       "       [1.2855507e-07, 5.4597158e-06, 7.6583552e-01, 2.3415884e-01],\n",
       "       [7.9143474e-06, 8.6388958e-01, 1.3517500e-01, 9.2753925e-04]],\n",
       "      dtype=float32)"
      ]
     },
     "execution_count": 48,
     "metadata": {},
     "output_type": "execute_result"
    }
   ],
   "source": [
    "y_pred = probability_model(X_train).numpy()\n",
    "y_pred"
   ]
  },
  {
   "cell_type": "code",
   "execution_count": 53,
   "metadata": {},
   "outputs": [
    {
     "data": {
      "text/plain": [
       "0"
      ]
     },
     "execution_count": 53,
     "metadata": {},
     "output_type": "execute_result"
    }
   ],
   "source": [
    "(y_pred1 != y_pred).sum()"
   ]
  },
  {
   "cell_type": "code",
   "execution_count": 54,
   "metadata": {},
   "outputs": [
    {
     "name": "stdout",
     "output_type": "stream",
     "text": [
      "              precision    recall  f1-score   support\n",
      "\n",
      "           0       1.00      1.00      1.00      1828\n",
      "           1       0.92      0.94      0.93      5296\n",
      "           2       0.85      0.86      0.86      6174\n",
      "           3       0.85      0.80      0.82      3086\n",
      "\n",
      "    accuracy                           0.89     16384\n",
      "   macro avg       0.90      0.90      0.90     16384\n",
      "weighted avg       0.89      0.89      0.89     16384\n",
      "\n"
     ]
    }
   ],
   "source": [
    "print(classification_report(np.argmax(y_train, axis = 1), np.argmax(y_pred, axis = 1)))"
   ]
  },
  {
   "cell_type": "code",
   "execution_count": 55,
   "metadata": {},
   "outputs": [
    {
     "name": "stdout",
     "output_type": "stream",
     "text": [
      "Accuracy score on Test Data :0.88372\n"
     ]
    }
   ],
   "source": [
    "y_pred = probability_model(X_test).numpy()\n",
    "\n",
    "print('Accuracy score on Test Data :{:.5f}'.format(accuracy_score(np.argmax(y_test, axis = 1), \n",
    "                                                                  np.argmax(y_pred, axis = 1))))"
   ]
  },
  {
   "cell_type": "code",
   "execution_count": 56,
   "metadata": {},
   "outputs": [
    {
     "name": "stdout",
     "output_type": "stream",
     "text": [
      "              precision    recall  f1-score   support\n",
      "\n",
      "           0       1.00      1.00      1.00       197\n",
      "           1       0.92      0.94      0.93       570\n",
      "           2       0.84      0.86      0.85       664\n",
      "           3       0.84      0.77      0.80       332\n",
      "\n",
      "    accuracy                           0.88      1763\n",
      "   macro avg       0.90      0.89      0.90      1763\n",
      "weighted avg       0.88      0.88      0.88      1763\n",
      "\n"
     ]
    }
   ],
   "source": [
    "print(classification_report(np.argmax(y_test, axis = 1), \n",
    "                            np.argmax(y_pred, axis = 1)))"
   ]
  },
  {
   "cell_type": "code",
   "execution_count": 57,
   "metadata": {},
   "outputs": [
    {
     "data": {
      "image/png": "[encoded data removed]",
      "text/plain": [
       "<Figure size 400x400 with 1 Axes>"
      ]
     },
     "metadata": {},
     "output_type": "display_data"
    }
   ],
   "source": [
    "cm  = confusion_matrix(np.argmax(y_test, axis = 1), np.argmax(y_pred, axis = 1))\n",
    "\n",
    "disp = ConfusionMatrixDisplay(confusion_matrix=cm,\n",
    "                              display_labels=labels.values())\n",
    "\n",
    "fig, ax = plt.subplots(figsize = (4,4))\n",
    "\n",
    "disp.plot(ax = ax, cmap = 'Blues', xticks_rotation = 'vertical', colorbar=False)\n",
    "\n",
    "plt.show();"
   ]
  },
  {
   "cell_type": "code",
   "execution_count": 58,
   "metadata": {},
   "outputs": [
    {
     "data": {
      "text/html": [
       "<div>\n",
       "<style scoped>\n",
       "    .dataframe tbody tr th:only-of-type {\n",
       "        vertical-align: middle;\n",
       "    }\n",
       "\n",
       "    .dataframe tbody tr th {\n",
       "        vertical-align: top;\n",
       "    }\n",
       "\n",
       "    .dataframe thead th {\n",
       "        text-align: right;\n",
       "    }\n",
       "</style>\n",
       "<table border=\"1\" class=\"dataframe\">\n",
       "  <thead>\n",
       "    <tr style=\"text-align: right;\">\n",
       "      <th></th>\n",
       "      <th>loss</th>\n",
       "      <th>accuracy</th>\n",
       "      <th>val_loss</th>\n",
       "      <th>val_accuracy</th>\n",
       "    </tr>\n",
       "  </thead>\n",
       "  <tbody>\n",
       "    <tr>\n",
       "      <th>54</th>\n",
       "      <td>0.276558</td>\n",
       "      <td>0.88562</td>\n",
       "      <td>0.284734</td>\n",
       "      <td>0.885423</td>\n",
       "    </tr>\n",
       "  </tbody>\n",
       "</table>\n",
       "</div>"
      ],
      "text/plain": [
       "        loss  accuracy  val_loss  val_accuracy\n",
       "54  0.276558   0.88562  0.284734      0.885423"
      ]
     },
     "execution_count": 58,
     "metadata": {},
     "output_type": "execute_result"
    }
   ],
   "source": [
    "loss_df[loss_df['val_loss'] == loss_df['val_loss'].min()]"
   ]
  },
  {
   "cell_type": "markdown",
   "metadata": {},
   "source": [
    "# Assignment: S14-01\n",
    "\n",
    "1. Implement L2 Regularization \n",
    "2. Change data set to Fashion MNIST "
   ]
  },
  {
   "cell_type": "code",
   "execution_count": null,
   "metadata": {},
   "outputs": [],
   "source": []
  }
 ],
 "metadata": {
  "kernelspec": {
   "display_name": "Python 3 (ipykernel)",
   "language": "python",
   "name": "python3"
  },
  "language_info": {
   "codemirror_mode": {
    "name": "ipython",
    "version": 3
   },
   "file_extension": ".py",
   "mimetype": "text/x-python",
   "name": "python",
   "nbconvert_exporter": "python",
   "pygments_lexer": "ipython3",
   "version": "3.10.12"
  }
 },
 "nbformat": 4,
 "nbformat_minor": 4
}
