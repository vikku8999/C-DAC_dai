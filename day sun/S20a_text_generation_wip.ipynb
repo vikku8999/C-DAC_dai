{
 "cells": [
  {
   "cell_type": "code",
   "execution_count": 1,
   "metadata": {},
   "outputs": [],
   "source": [
    "#!/usr/bin/env python\n",
    "# -*- coding: utf-8 -*-"
   ]
  },
  {
   "cell_type": "markdown",
   "metadata": {},
   "source": [
    "# Deep Neural Networks \n",
    "## Session 20a : Lecture\n",
    "\n",
    "## Text Generation using RNN\n",
    "</p><img src='../../images/prasami_color_tutorials_small.png' style = 'width:400px;' alt=\"By Pramod Sharma : pramod.sharma@prasami.com\" align=\"left\"/>"
   ]
  },
  {
   "cell_type": "markdown",
   "metadata": {
    "id": "WGyKZj3bzf9p"
   },
   "source": [
    "### Import TensorFlow and other libraries"
   ]
  },
  {
   "cell_type": "code",
   "execution_count": 2,
   "metadata": {},
   "outputs": [
    {
     "name": "stderr",
     "output_type": "stream",
     "text": [
      "2023-12-18 10:24:15.438077: I tensorflow/core/util/port.cc:113] oneDNN custom operations are on. You may see slightly different numerical results due to floating-point round-off errors from different computation orders. To turn them off, set the environment variable `TF_ENABLE_ONEDNN_OPTS=0`.\n",
      "2023-12-18 10:24:15.745530: E external/local_xla/xla/stream_executor/cuda/cuda_dnn.cc:9261] Unable to register cuDNN factory: Attempting to register factory for plugin cuDNN when one has already been registered\n",
      "2023-12-18 10:24:15.745595: E external/local_xla/xla/stream_executor/cuda/cuda_fft.cc:607] Unable to register cuFFT factory: Attempting to register factory for plugin cuFFT when one has already been registered\n",
      "2023-12-18 10:24:15.763273: E external/local_xla/xla/stream_executor/cuda/cuda_blas.cc:1515] Unable to register cuBLAS factory: Attempting to register factory for plugin cuBLAS when one has already been registered\n",
      "2023-12-18 10:24:15.802505: I tensorflow/core/platform/cpu_feature_guard.cc:182] This TensorFlow binary is optimized to use available CPU instructions in performance-critical operations.\n",
      "To enable the following instructions: AVX2 AVX512F AVX512_VNNI FMA, in other operations, rebuild TensorFlow with the appropriate compiler flags.\n",
      "2023-12-18 10:24:22.971575: W tensorflow/compiler/tf2tensorrt/utils/py_utils.cc:38] TF-TRT Warning: Could not find TensorRT\n"
     ]
    }
   ],
   "source": [
    "# Lets import some libraries\n",
    "import os\n",
    "import time\n",
    "import datetime\n",
    "import numpy as np\n",
    "import pandas as pd\n",
    "\n",
    "import matplotlib.pyplot as plt\n",
    "\n",
    "import tensorflow as tf\n",
    "\n",
    "%matplotlib inline"
   ]
  },
  {
   "cell_type": "code",
   "execution_count": 3,
   "metadata": {},
   "outputs": [],
   "source": [
    "def fn_verify_dir(_path):\n",
    "    '''\n",
    "    Arg:\n",
    "        path: path to verify the directory\n",
    "    returns:\n",
    "        create dir if it does not exists\n",
    "    '''\n",
    "    if os.path.exists(_path): # check if the path exists. Maybe a file or a folder\n",
    "        \n",
    "        print(_path, ' exists') # advised the user\n",
    "        \n",
    "    else:\n",
    "        \n",
    "        os.makedirs(_path) # create the path\n",
    "        \n",
    "        print(\"Created folder : \", _path)"
   ]
  },
  {
   "cell_type": "code",
   "execution_count": 4,
   "metadata": {},
   "outputs": [
    {
     "name": "stdout",
     "output_type": "stream",
     "text": [
      "../../input  exists\n",
      "../output  exists\n",
      "../models  exists\n",
      "../models  exists\n"
     ]
    }
   ],
   "source": [
    "# Some basic parameters\n",
    "\n",
    "inpDir = '../../input' # location where input data is stored\n",
    "outDir = '../output' # location to store outputs\n",
    "modelDir = '../models' # location to store models\n",
    "subDir = 'text_gen' # location to store models\n",
    "\n",
    "# verify if these path exist\n",
    "fn_verify_dir(inpDir)\n",
    "fn_verify_dir(outDir)\n",
    "fn_verify_dir(modelDir)\n",
    "fn_verify_dir(os.path.join(modelDir))\n",
    "\n",
    "RANDOM_STATE = 24 # for initialization ----- REMEMBER: to remove at the time of promotion to production\n",
    "\n",
    "np.random.seed(RANDOM_STATE) # Set Random Seed for reproducible  results\n",
    "\n",
    "BATCH_SIZE = 64\n",
    "\n",
    "EPOCHS = 50 # number of cycles to run\n",
    "\n",
    "ALPHA = 0.1 # learning rate"
   ]
  },
  {
   "cell_type": "code",
   "execution_count": 5,
   "metadata": {},
   "outputs": [],
   "source": [
    "physical_devices = tf.config.list_physical_devices('GPU') \n",
    "\n",
    "if len(physical_devices) > 0:\n",
    "    tf.config.experimental.set_memory_growth(physical_devices[0], True)"
   ]
  },
  {
   "cell_type": "markdown",
   "metadata": {
    "id": "EHDoRoc5PKWz"
   },
   "source": [
    "### Shakespeare dataset"
   ]
  },
  {
   "cell_type": "code",
   "execution_count": 10,
   "metadata": {},
   "outputs": [
    {
     "data": {
      "text/plain": [
       "'../../input/shakespeare.txt'"
      ]
     },
     "execution_count": 10,
     "metadata": {},
     "output_type": "execute_result"
    }
   ],
   "source": [
    "filePath = os.path.join(inpDir, 'shakespeare.txt')\n",
    "filePath"
   ]
  },
  {
   "cell_type": "code",
   "execution_count": 12,
   "metadata": {},
   "outputs": [
    {
     "data": {
      "text/plain": [
       "1115395"
      ]
     },
     "execution_count": 12,
     "metadata": {},
     "output_type": "execute_result"
    }
   ],
   "source": [
    "text = open(filePath, 'rb').read().decode(encoding='utf-8')\n",
    "\n",
    "len(text)\n",
    "\n",
    "#tf.io.read_file(filePath).numpy()..decode(encoding='utf-8')"
   ]
  },
  {
   "cell_type": "code",
   "execution_count": 13,
   "metadata": {},
   "outputs": [],
   "source": [
    "text"
   ]
  },
  {
   "cell_type": "code",
   "execution_count": 14,
   "metadata": {},
   "outputs": [
    {
     "name": "stdout",
     "output_type": "stream",
     "text": [
      "First Citizen:\n",
      "Before we proceed any further, hear me speak.\n",
      "\n",
      "All:\n",
      "Speak, speak.\n",
      "\n",
      "First Citizen:\n",
      "You are all resolved rather to die than to famish?\n",
      "\n",
      "All:\n",
      "Resolved. resolved.\n",
      "\n",
      "First Citizen:\n",
      "First, you know Caius Marcius is chief enemy to the people.\n",
      "\n",
      "All:\n",
      "We know't, we know't.\n",
      "\n",
      "First Citizen:\n",
      "Let us kill him, and we'll have corn at our own price.\n",
      "Is't a verdict?\n",
      "\n",
      "All:\n",
      "No more talking on't; let it \n"
     ]
    }
   ],
   "source": [
    "print(text[:400])"
   ]
  },
  {
   "cell_type": "code",
   "execution_count": 15,
   "metadata": {},
   "outputs": [
    {
     "data": {
      "text/plain": [
       "65"
      ]
     },
     "execution_count": 15,
     "metadata": {},
     "output_type": "execute_result"
    }
   ],
   "source": [
    "vocab = sorted(set(text))\n",
    "len(vocab)"
   ]
  },
  {
   "cell_type": "code",
   "execution_count": 16,
   "metadata": {},
   "outputs": [
    {
     "data": {
      "text/plain": [
       "(1115395,)"
      ]
     },
     "execution_count": 16,
     "metadata": {},
     "output_type": "execute_result"
    }
   ],
   "source": [
    "char2idx = {u:i for i, u in enumerate(vocab)} # \n",
    "\n",
    "\n",
    "idx2char = np.array(vocab)\n",
    "\n",
    "text_as_int = np.array([char2idx[c] for c in text])\n",
    "\n",
    "text_as_int.shape"
   ]
  },
  {
   "cell_type": "code",
   "execution_count": 45,
   "metadata": {},
   "outputs": [
    {
     "data": {
      "text/plain": [
       "{'\\n': 0,\n",
       " ' ': 1,\n",
       " '!': 2,\n",
       " '$': 3,\n",
       " '&': 4,\n",
       " \"'\": 5,\n",
       " ',': 6,\n",
       " '-': 7,\n",
       " '.': 8,\n",
       " '3': 9,\n",
       " ':': 10,\n",
       " ';': 11,\n",
       " '?': 12,\n",
       " 'A': 13,\n",
       " 'B': 14,\n",
       " 'C': 15,\n",
       " 'D': 16,\n",
       " 'E': 17,\n",
       " 'F': 18,\n",
       " 'G': 19,\n",
       " 'H': 20,\n",
       " 'I': 21,\n",
       " 'J': 22,\n",
       " 'K': 23,\n",
       " 'L': 24,\n",
       " 'M': 25,\n",
       " 'N': 26,\n",
       " 'O': 27,\n",
       " 'P': 28,\n",
       " 'Q': 29,\n",
       " 'R': 30,\n",
       " 'S': 31,\n",
       " 'T': 32,\n",
       " 'U': 33,\n",
       " 'V': 34,\n",
       " 'W': 35,\n",
       " 'X': 36,\n",
       " 'Y': 37,\n",
       " 'Z': 38,\n",
       " 'a': 39,\n",
       " 'b': 40,\n",
       " 'c': 41,\n",
       " 'd': 42,\n",
       " 'e': 43,\n",
       " 'f': 44,\n",
       " 'g': 45,\n",
       " 'h': 46,\n",
       " 'i': 47,\n",
       " 'j': 48,\n",
       " 'k': 49,\n",
       " 'l': 50,\n",
       " 'm': 51,\n",
       " 'n': 52,\n",
       " 'o': 53,\n",
       " 'p': 54,\n",
       " 'q': 55,\n",
       " 'r': 56,\n",
       " 's': 57,\n",
       " 't': 58,\n",
       " 'u': 59,\n",
       " 'v': 60,\n",
       " 'w': 61,\n",
       " 'x': 62,\n",
       " 'y': 63,\n",
       " 'z': 64}"
      ]
     },
     "execution_count": 45,
     "metadata": {},
     "output_type": "execute_result"
    }
   ],
   "source": [
    "char2idx"
   ]
  },
  {
   "cell_type": "code",
   "execution_count": 17,
   "metadata": {},
   "outputs": [
    {
     "data": {
      "text/plain": [
       "array([18, 47, 56, ...,  8,  0,  0])"
      ]
     },
     "execution_count": 17,
     "metadata": {},
     "output_type": "execute_result"
    }
   ],
   "source": [
    "text_as_int"
   ]
  },
  {
   "cell_type": "code",
   "execution_count": 18,
   "metadata": {},
   "outputs": [
    {
     "data": {
      "text/plain": [
       "numpy.ndarray"
      ]
     },
     "execution_count": 18,
     "metadata": {},
     "output_type": "execute_result"
    }
   ],
   "source": [
    "type(text_as_int)"
   ]
  },
  {
   "cell_type": "code",
   "execution_count": 19,
   "metadata": {},
   "outputs": [
    {
     "data": {
      "text/plain": [
       "(1115395,)"
      ]
     },
     "execution_count": 19,
     "metadata": {},
     "output_type": "execute_result"
    }
   ],
   "source": [
    "text_as_int.shape"
   ]
  },
  {
   "cell_type": "code",
   "execution_count": 20,
   "metadata": {},
   "outputs": [
    {
     "data": {
      "text/plain": [
       "'i'"
      ]
     },
     "execution_count": 20,
     "metadata": {},
     "output_type": "execute_result"
    }
   ],
   "source": [
    "idx2char[47]"
   ]
  },
  {
   "cell_type": "code",
   "execution_count": 21,
   "metadata": {
    "scrolled": true
   },
   "outputs": [
    {
     "data": {
      "text/plain": [
       "{'\\n': 0,\n",
       " ' ': 1,\n",
       " '!': 2,\n",
       " '$': 3,\n",
       " '&': 4,\n",
       " \"'\": 5,\n",
       " ',': 6,\n",
       " '-': 7,\n",
       " '.': 8,\n",
       " '3': 9,\n",
       " ':': 10,\n",
       " ';': 11,\n",
       " '?': 12,\n",
       " 'A': 13,\n",
       " 'B': 14,\n",
       " 'C': 15,\n",
       " 'D': 16,\n",
       " 'E': 17,\n",
       " 'F': 18,\n",
       " 'G': 19,\n",
       " 'H': 20,\n",
       " 'I': 21,\n",
       " 'J': 22,\n",
       " 'K': 23,\n",
       " 'L': 24,\n",
       " 'M': 25,\n",
       " 'N': 26,\n",
       " 'O': 27,\n",
       " 'P': 28,\n",
       " 'Q': 29,\n",
       " 'R': 30,\n",
       " 'S': 31,\n",
       " 'T': 32,\n",
       " 'U': 33,\n",
       " 'V': 34,\n",
       " 'W': 35,\n",
       " 'X': 36,\n",
       " 'Y': 37,\n",
       " 'Z': 38,\n",
       " 'a': 39,\n",
       " 'b': 40,\n",
       " 'c': 41,\n",
       " 'd': 42,\n",
       " 'e': 43,\n",
       " 'f': 44,\n",
       " 'g': 45,\n",
       " 'h': 46,\n",
       " 'i': 47,\n",
       " 'j': 48,\n",
       " 'k': 49,\n",
       " 'l': 50,\n",
       " 'm': 51,\n",
       " 'n': 52,\n",
       " 'o': 53,\n",
       " 'p': 54,\n",
       " 'q': 55,\n",
       " 'r': 56,\n",
       " 's': 57,\n",
       " 't': 58,\n",
       " 'u': 59,\n",
       " 'v': 60,\n",
       " 'w': 61,\n",
       " 'x': 62,\n",
       " 'y': 63,\n",
       " 'z': 64}"
      ]
     },
     "execution_count": 21,
     "metadata": {},
     "output_type": "execute_result"
    }
   ],
   "source": [
    "char2idx"
   ]
  },
  {
   "cell_type": "code",
   "execution_count": 22,
   "metadata": {},
   "outputs": [
    {
     "name": "stdout",
     "output_type": "stream",
     "text": [
      "[1.0, 2.0, 3.0]\n"
     ]
    }
   ],
   "source": [
    "dataset = tf.data.Dataset.from_tensor_slices([1.,2.,3.])\n",
    "\n",
    "print (list(dataset.as_numpy_iterator()))"
   ]
  },
  {
   "cell_type": "code",
   "execution_count": 23,
   "metadata": {},
   "outputs": [
    {
     "name": "stdout",
     "output_type": "stream",
     "text": [
      "18 | F\n",
      "47 | i\n",
      "56 | r\n",
      "57 | s\n",
      "58 | t\n",
      "1 |  \n",
      "15 | C\n",
      "47 | i\n",
      "58 | t\n",
      "47 | i\n"
     ]
    }
   ],
   "source": [
    "seq_length = 100\n",
    "\n",
    "example_per_epoch = len(text) // (seq_length+1)\n",
    "\n",
    "char_dataset = tf.data.Dataset.from_tensor_slices(text_as_int)\n",
    "\n",
    "for i in char_dataset.take(10):\n",
    "    \n",
    "    print (i.numpy(), '|', idx2char[i.numpy()])"
   ]
  },
  {
   "cell_type": "code",
   "execution_count": 24,
   "metadata": {},
   "outputs": [
    {
     "name": "stdout",
     "output_type": "stream",
     "text": [
      "tf.Tensor(\n",
      "[18 47 56 57 58  1 15 47 58 47 64 43 52 10  0 14 43 44 53 56 43  1 61 43\n",
      "  1 54 56 53 41 43 43 42  1 39 52 63  1 44 59 56 58 46 43 56  6  1 46 43\n",
      " 39 56  1 51 43  1 57 54 43 39 49  8  0  0 13 50 50 10  0 31 54 43 39 49\n",
      "  6  1 57 54 43 39 49  8  0  0 18 47 56 57 58  1 15 47 58 47 64 43 52 10\n",
      "  0 37 53 59  1], shape=(101,), dtype=int64)\n",
      "tf.Tensor(\n",
      "[39 56 43  1 39 50 50  1 56 43 57 53 50 60 43 42  1 56 39 58 46 43 56  1\n",
      " 58 53  1 42 47 43  1 58 46 39 52  1 58 53  1 44 39 51 47 57 46 12  0  0\n",
      " 13 50 50 10  0 30 43 57 53 50 60 43 42  8  1 56 43 57 53 50 60 43 42  8\n",
      "  0  0 18 47 56 57 58  1 15 47 58 47 64 43 52 10  0 18 47 56 57 58  6  1\n",
      " 63 53 59  1 49], shape=(101,), dtype=int64)\n"
     ]
    }
   ],
   "source": [
    "sequences = char_dataset.batch(seq_length+1, drop_remainder=True)\n",
    "\n",
    "for item in sequences.take(2):\n",
    "    \n",
    "    print (item)"
   ]
  },
  {
   "cell_type": "code",
   "execution_count": 25,
   "metadata": {},
   "outputs": [
    {
     "name": "stdout",
     "output_type": "stream",
     "text": [
      "'First Citizen:\\nBefore we proceed any further, hear me speak.\\n\\nAll:\\nSpeak, speak.\\n\\nFirst Citizen:\\nYou '\n",
      "'are all resolved rather to die than to famish?\\n\\nAll:\\nResolved. resolved.\\n\\nFirst Citizen:\\nFirst, you k'\n"
     ]
    }
   ],
   "source": [
    "for item in sequences.take(2):\n",
    "    \n",
    "    print (repr( ''.join(idx2char[item.numpy()] ) ) )"
   ]
  },
  {
   "cell_type": "code",
   "execution_count": 26,
   "metadata": {},
   "outputs": [],
   "source": [
    "def split_input_target(chunk):\n",
    "    \n",
    "    input_text = chunk[:-1]\n",
    "    \n",
    "    target_text = chunk[1:]\n",
    "    \n",
    "    return input_text, target_text\n",
    "\n",
    "dataset = sequences.map(split_input_target)"
   ]
  },
  {
   "cell_type": "code",
   "execution_count": 27,
   "metadata": {},
   "outputs": [
    {
     "name": "stdout",
     "output_type": "stream",
     "text": [
      "'First Citizen:\\nBefore we proceed any further, hear me speak.\\n\\nAll:\\nSpeak, speak.\\n\\nFirst Citizen:\\nYou'\n",
      "'irst Citizen:\\nBefore we proceed any further, hear me speak.\\n\\nAll:\\nSpeak, speak.\\n\\nFirst Citizen:\\nYou '\n",
      "************************************************** \n",
      "\n",
      "'are all resolved rather to die than to famish?\\n\\nAll:\\nResolved. resolved.\\n\\nFirst Citizen:\\nFirst, you '\n",
      "'re all resolved rather to die than to famish?\\n\\nAll:\\nResolved. resolved.\\n\\nFirst Citizen:\\nFirst, you k'\n",
      "************************************************** \n",
      "\n"
     ]
    }
   ],
   "source": [
    "for inp_ex, tar_ex in dataset.take (2):\n",
    "    print (repr( ''.join(idx2char[inp_ex.numpy()] ) ))\n",
    "    print (repr( ''.join(idx2char[tar_ex.numpy()] ) ))\n",
    "    print ('*'*50, '\\n')"
   ]
  },
  {
   "cell_type": "code",
   "execution_count": 28,
   "metadata": {},
   "outputs": [
    {
     "data": {
      "text/plain": [
       "<_BatchDataset element_spec=(TensorSpec(shape=(64, 100), dtype=tf.int64, name=None), TensorSpec(shape=(64, 100), dtype=tf.int64, name=None))>"
      ]
     },
     "execution_count": 28,
     "metadata": {},
     "output_type": "execute_result"
    }
   ],
   "source": [
    "BUFFER_SIZE = 10000\n",
    "\n",
    "dataset = dataset.shuffle(BUFFER_SIZE).batch(BATCH_SIZE, drop_remainder=True)\n",
    "\n",
    "dataset"
   ]
  },
  {
   "cell_type": "code",
   "execution_count": 29,
   "metadata": {},
   "outputs": [],
   "source": [
    "vocab_size = len(vocab)\n",
    "\n",
    "embedding_dim = 256\n",
    "\n",
    "rnn_units = 1024\n"
   ]
  },
  {
   "cell_type": "code",
   "execution_count": 30,
   "metadata": {},
   "outputs": [],
   "source": [
    "def build_model(vocab_size, embedding_dim, rnn_units, batch_size):\n",
    "    \n",
    "    model = tf.keras.models.Sequential([\n",
    "        \n",
    "        tf.keras.layers.Embedding(vocab_size, \n",
    "                                  embedding_dim, \n",
    "                                  batch_input_shape= [batch_size, None]),\n",
    "        \n",
    "        tf.keras.layers.GRU(rnn_units,\n",
    "                            return_sequences=True, \n",
    "                            stateful=True, \n",
    "                            recurrent_initializer='glorot_uniform'\n",
    "                           ),\n",
    "        tf.keras.layers.Dense(vocab_size)\n",
    "    ])\n",
    "    \n",
    "    return model"
   ]
  },
  {
   "cell_type": "code",
   "execution_count": 31,
   "metadata": {},
   "outputs": [],
   "source": [
    "# vocab_size, embedding_dim, rnn_units, batch_size\n",
    "model = build_model(vocab_size= len(vocab), \n",
    "                    embedding_dim=embedding_dim, \n",
    "                    rnn_units = rnn_units,\n",
    "                    batch_size= BATCH_SIZE)"
   ]
  },
  {
   "cell_type": "code",
   "execution_count": 32,
   "metadata": {},
   "outputs": [],
   "source": [
    "for input_ex_batch, target_ex_batch in dataset.take(1):\n",
    "    ex_batch_pred = model(input_ex_batch)"
   ]
  },
  {
   "cell_type": "code",
   "execution_count": 33,
   "metadata": {},
   "outputs": [
    {
     "data": {
      "text/plain": [
       "TensorShape([64, 100, 65])"
      ]
     },
     "execution_count": 33,
     "metadata": {},
     "output_type": "execute_result"
    }
   ],
   "source": [
    "ex_batch_pred.shape"
   ]
  },
  {
   "cell_type": "code",
   "execution_count": 34,
   "metadata": {},
   "outputs": [
    {
     "name": "stdout",
     "output_type": "stream",
     "text": [
      "Model: \"sequential\"\n",
      "_________________________________________________________________\n",
      " Layer (type)                Output Shape              Param #   \n",
      "=================================================================\n",
      " embedding (Embedding)       (64, None, 256)           16640     \n",
      "                                                                 \n",
      " gru (GRU)                   (64, None, 1024)          3938304   \n",
      "                                                                 \n",
      " dense (Dense)               (64, None, 65)            66625     \n",
      "                                                                 \n",
      "=================================================================\n",
      "Total params: 4021569 (15.34 MB)\n",
      "Trainable params: 4021569 (15.34 MB)\n",
      "Non-trainable params: 0 (0.00 Byte)\n",
      "_________________________________________________________________\n"
     ]
    }
   ],
   "source": [
    "model.summary()"
   ]
  },
  {
   "cell_type": "code",
   "execution_count": 35,
   "metadata": {},
   "outputs": [
    {
     "data": {
      "text/plain": [
       "array([43, 18,  9,  7, 48, 60, 46,  3, 14, 23, 27, 40, 16, 63, 20, 18, 46,\n",
       "       44, 30, 31, 32, 53,  2, 63, 34, 27,  5, 49,  1, 34, 33, 14, 14, 37,\n",
       "       16, 30, 58,  8, 20, 37, 20, 46, 35, 30, 45,  4, 58, 46, 46, 22, 62,\n",
       "        0, 52, 15, 58, 36, 16, 46, 19, 13, 46, 57, 31, 11, 62, 29, 16, 28,\n",
       "       50, 13, 21, 13, 17, 13, 53, 20, 59, 34, 17, 50, 17, 27, 64, 50, 55,\n",
       "       22, 48,  4, 28, 11,  3, 36, 24, 18, 41, 13, 47, 46,  9, 54])"
      ]
     },
     "execution_count": 35,
     "metadata": {},
     "output_type": "execute_result"
    }
   ],
   "source": [
    "sampled_indices = tf.random.categorical(ex_batch_pred[0], num_samples=1)\n",
    "sampled_indices = tf.squeeze(sampled_indices, axis = -1).numpy()\n",
    "\n",
    "sampled_indices"
   ]
  },
  {
   "cell_type": "code",
   "execution_count": 36,
   "metadata": {},
   "outputs": [],
   "source": [
    "loss_fn = tf.losses.SparseCategoricalCrossentropy(from_logits=True)\n",
    "model.compile(optimizer = 'adam', loss=loss_fn)"
   ]
  },
  {
   "cell_type": "code",
   "execution_count": 38,
   "metadata": {},
   "outputs": [],
   "source": [
    "chkPtPath = os.path.join(modelDir, subDir)\n",
    "\n",
    "chkPtPrefix = os.path.join(chkPtPath, 'chkpt_{epoch}')\n",
    "\n",
    "checkpoint_callback = tf.keras.callbacks.ModelCheckpoint(filepath=chkPtPrefix,\n",
    "                                                        save_weights_only=True)"
   ]
  },
  {
   "cell_type": "code",
   "execution_count": 39,
   "metadata": {
    "scrolled": true
   },
   "outputs": [
    {
     "name": "stdout",
     "output_type": "stream",
     "text": [
      "Epoch 1/50\n",
      "172/172 [==============================] - 194s 1s/step - loss: 2.7187\n",
      "Epoch 2/50\n",
      "172/172 [==============================] - 194s 1s/step - loss: 1.9764\n",
      "Epoch 3/50\n",
      "172/172 [==============================] - 208s 1s/step - loss: 1.7072\n",
      "Epoch 4/50\n",
      "172/172 [==============================] - 189s 1s/step - loss: 1.5533\n",
      "Epoch 5/50\n",
      "172/172 [==============================] - 185s 1s/step - loss: 1.4619\n",
      "Epoch 6/50\n",
      "172/172 [==============================] - 201s 1s/step - loss: 1.3998\n",
      "Epoch 7/50\n",
      "172/172 [==============================] - 185s 1s/step - loss: 1.3537\n",
      "Epoch 8/50\n",
      "172/172 [==============================] - 194s 1s/step - loss: 1.3140\n",
      "Epoch 9/50\n",
      "172/172 [==============================] - 186s 1s/step - loss: 1.2791\n",
      "Epoch 10/50\n",
      "172/172 [==============================] - 201s 1s/step - loss: 1.2449\n",
      "Epoch 11/50\n",
      "172/172 [==============================] - 189s 1s/step - loss: 1.2127\n",
      "Epoch 12/50\n",
      "172/172 [==============================] - 189s 1s/step - loss: 1.1805\n",
      "Epoch 13/50\n",
      "172/172 [==============================] - 194s 1s/step - loss: 1.1481\n",
      "Epoch 14/50\n",
      "172/172 [==============================] - 192s 1s/step - loss: 1.1142\n",
      "Epoch 15/50\n",
      "172/172 [==============================] - 191s 1s/step - loss: 1.0792\n",
      "Epoch 16/50\n",
      "172/172 [==============================] - 204s 1s/step - loss: 1.0435\n",
      "Epoch 17/50\n",
      "172/172 [==============================] - 199s 1s/step - loss: 1.0068\n",
      "Epoch 18/50\n",
      "172/172 [==============================] - 202s 1s/step - loss: 0.9725\n",
      "Epoch 19/50\n",
      "172/172 [==============================] - 205s 1s/step - loss: 0.9369\n",
      "Epoch 20/50\n",
      "172/172 [==============================] - 196s 1s/step - loss: 0.9019\n",
      "Epoch 21/50\n",
      "172/172 [==============================] - 191s 1s/step - loss: 0.8703\n",
      "Epoch 22/50\n",
      "172/172 [==============================] - 197s 1s/step - loss: 0.8406\n",
      "Epoch 23/50\n",
      "172/172 [==============================] - 193s 1s/step - loss: 0.8120\n",
      "Epoch 24/50\n",
      "172/172 [==============================] - 192s 1s/step - loss: 0.7890\n",
      "Epoch 25/50\n",
      "172/172 [==============================] - 190s 1s/step - loss: 0.7663\n",
      "Epoch 26/50\n",
      "172/172 [==============================] - 188s 1s/step - loss: 0.7487\n",
      "Epoch 27/50\n",
      "172/172 [==============================] - 190s 1s/step - loss: 0.7303\n",
      "Epoch 28/50\n",
      "172/172 [==============================] - 190s 1s/step - loss: 0.7155\n",
      "Epoch 29/50\n",
      "172/172 [==============================] - 199s 1s/step - loss: 0.7050\n",
      "Epoch 30/50\n",
      "172/172 [==============================] - 194s 1s/step - loss: 0.6924\n",
      "Epoch 31/50\n",
      "172/172 [==============================] - 189s 1s/step - loss: 0.6840\n",
      "Epoch 32/50\n",
      "172/172 [==============================] - 193s 1s/step - loss: 0.6746\n",
      "Epoch 33/50\n",
      "172/172 [==============================] - 196s 1s/step - loss: 0.6677\n",
      "Epoch 34/50\n",
      "172/172 [==============================] - 186s 1s/step - loss: 0.6628\n",
      "Epoch 35/50\n",
      "172/172 [==============================] - 184s 1s/step - loss: 0.6579\n",
      "Epoch 36/50\n",
      "172/172 [==============================] - 193s 1s/step - loss: 0.6533\n",
      "Epoch 37/50\n",
      "172/172 [==============================] - 192s 1s/step - loss: 0.6489\n",
      "Epoch 38/50\n",
      "172/172 [==============================] - 190s 1s/step - loss: 0.6467\n",
      "Epoch 39/50\n",
      "172/172 [==============================] - 187s 1s/step - loss: 0.6441\n",
      "Epoch 40/50\n",
      "172/172 [==============================] - 192s 1s/step - loss: 0.6408\n",
      "Epoch 41/50\n",
      "172/172 [==============================] - 193s 1s/step - loss: 0.6399\n",
      "Epoch 42/50\n",
      "172/172 [==============================] - 192s 1s/step - loss: 0.6391\n",
      "Epoch 43/50\n",
      "172/172 [==============================] - 193s 1s/step - loss: 0.6350\n",
      "Epoch 44/50\n",
      "172/172 [==============================] - 192s 1s/step - loss: 0.6345\n",
      "Epoch 45/50\n",
      "172/172 [==============================] - 190s 1s/step - loss: 0.6361\n",
      "Epoch 46/50\n",
      "172/172 [==============================] - 192s 1s/step - loss: 0.6375\n",
      "Epoch 47/50\n",
      "172/172 [==============================] - 207s 1s/step - loss: 0.6342\n",
      "Epoch 48/50\n",
      "172/172 [==============================] - 203s 1s/step - loss: 0.6357\n",
      "Epoch 49/50\n",
      "172/172 [==============================] - 186s 1s/step - loss: 0.6345\n",
      "Epoch 50/50\n",
      "172/172 [==============================] - 181s 1s/step - loss: 0.6375\n"
     ]
    }
   ],
   "source": [
    "history = model.fit(dataset, epochs=EPOCHS, callbacks=[checkpoint_callback])"
   ]
  },
  {
   "cell_type": "code",
   "execution_count": 40,
   "metadata": {},
   "outputs": [
    {
     "data": {
      "text/plain": [
       "'../models/text_gen/chkpt_50'"
      ]
     },
     "execution_count": 40,
     "metadata": {},
     "output_type": "execute_result"
    }
   ],
   "source": [
    "tf.train.latest_checkpoint(chkPtPath)"
   ]
  },
  {
   "cell_type": "code",
   "execution_count": 41,
   "metadata": {},
   "outputs": [],
   "source": [
    "model = build_model(vocab_size, embedding_dim, rnn_units, batch_size=1)\n",
    "\n",
    "model.load_weights(tf.train.latest_checkpoint(chkPtPath))\n",
    "\n",
    "model.build ( tf.TensorShape ( [1, None ] ) )"
   ]
  },
  {
   "cell_type": "code",
   "execution_count": 42,
   "metadata": {},
   "outputs": [
    {
     "name": "stdout",
     "output_type": "stream",
     "text": [
      "Model: \"sequential_1\"\n",
      "_________________________________________________________________\n",
      " Layer (type)                Output Shape              Param #   \n",
      "=================================================================\n",
      " embedding_1 (Embedding)     (1, None, 256)            16640     \n",
      "                                                                 \n",
      " gru_1 (GRU)                 (1, None, 1024)           3938304   \n",
      "                                                                 \n",
      " dense_1 (Dense)             (1, None, 65)             66625     \n",
      "                                                                 \n",
      "=================================================================\n",
      "Total params: 4021569 (15.34 MB)\n",
      "Trainable params: 4021569 (15.34 MB)\n",
      "Non-trainable params: 0 (0.00 Byte)\n",
      "_________________________________________________________________\n"
     ]
    }
   ],
   "source": [
    "model.summary()"
   ]
  },
  {
   "cell_type": "code",
   "execution_count": 43,
   "metadata": {},
   "outputs": [],
   "source": [
    "def generate_text(model, start_string):\n",
    "    \n",
    "    num_generate =  1000\n",
    "    input_eval = [char2idx[s] for s in start_string] # [37, 48, 56 ]\n",
    "    print (f'Input: {start_string} | {input_eval}\\n')\n",
    "    input_eval = tf.expand_dims(input_eval, 0) # tf.Tensor (1, 1, 5)\n",
    "    text_generated = []\n",
    "    \n",
    "    model.reset_states()\n",
    "    \n",
    "    for i in range(num_generate):\n",
    "        \n",
    "        predictions = model(input_eval)\n",
    "        predictions = tf.squeeze(predictions, 0)\n",
    "        predict_td = tf.random.categorical(predictions, \n",
    "                                            num_samples=1)[-1,0].numpy()\n",
    "        \n",
    "        input_eval = tf.expand_dims([predict_td], 0)\n",
    "        text_generated.append(idx2char[predict_td])\n",
    "        \n",
    "    return start_string+''.join(text_generated)"
   ]
  },
  {
   "cell_type": "code",
   "execution_count": 44,
   "metadata": {},
   "outputs": [
    {
     "name": "stdout",
     "output_type": "stream",
     "text": [
      "Input: ROMEO: | [30, 27, 25, 17, 27, 10]\n",
      "\n",
      "ROMEO:\n",
      "Slottence strike up, I have in hand.\n",
      "\n",
      "HERMIONE:\n",
      "Where she comes to be thus?\n",
      "No, my good lords.\n",
      "\n",
      "BUCKINGHAM:\n",
      "Madam, we thought of heavenly strength their tribes;\n",
      "Which, well a married. Thou hast\n",
      "sent to the tribunes! nay, traitor! the officers;\n",
      "Come hither, Tyrrel, and his business.\n",
      "\n",
      "ANGELO:\n",
      "Weeping a sister is full of grief,\n",
      "Tell me for that which I out, our garments possess, what obscured\n",
      "With his sought so marvell as search? Wilt thou behold thy food approved:\n",
      "I came to shrift and such a king\n",
      "To breathe my bold again; 'tis not the rest of themain:\n",
      "'Tis well service\n",
      "You in my distress for my view--\n",
      "And yet the good good provost, that was mine?\n",
      "\n",
      "CAMILLO:\n",
      "Bus heavens!\n",
      "Worse honour.\n",
      "\n",
      "HORTESSIO:\n",
      "Constable nums and cheerful kindness. I\n",
      "\n",
      "DUKE VINCENTIO:\n",
      "What, my old womb, that haults, the traitor cler?\n",
      "And I unjustly, look thee:\n",
      "Therefore thyself and I; it's pleasant branches' sorrows.\n",
      "\n",
      "ANTONIO:\n",
      "Thou art not thanky, go, and go by my poor eyes,--\n",
      "A merrit: no, for thy words revive my heart!\n"
     ]
    }
   ],
   "source": [
    "print (generate_text(model, start_string=u'ROMEO:'))"
   ]
  },
  {
   "cell_type": "code",
   "execution_count": null,
   "metadata": {},
   "outputs": [],
   "source": []
  }
 ],
 "metadata": {
  "accelerator": "GPU",
  "colab": {
   "collapsed_sections": [],
   "name": "text_generation.ipynb",
   "toc_visible": true
  },
  "kernelspec": {
   "display_name": "Python 3 (ipykernel)",
   "language": "python",
   "name": "python3"
  },
  "language_info": {
   "codemirror_mode": {
    "name": "ipython",
    "version": 3
   },
   "file_extension": ".py",
   "mimetype": "text/x-python",
   "name": "python",
   "nbconvert_exporter": "python",
   "pygments_lexer": "ipython3",
   "version": "3.11.4"
  }
 },
 "nbformat": 4,
 "nbformat_minor": 4
}
